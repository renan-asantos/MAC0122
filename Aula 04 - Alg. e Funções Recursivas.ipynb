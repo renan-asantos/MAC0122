{
 "cells": [
  {
   "cell_type": "markdown",
   "metadata": {},
   "source": [
    "### Para cada um dos exercícios abaixo (4.1 ate 4.9), escreva a função de 2 formas: iterativa e recursiva."
   ]
  },
  {
   "cell_type": "markdown",
   "metadata": {},
   "source": [
    "#### P4.1) Função Max_Lista(L) que devolve o máximo dos elementos de uma lista L."
   ]
  },
  {
   "cell_type": "code",
   "execution_count": 1,
   "metadata": {},
   "outputs": [
    {
     "data": {
      "text/plain": [
       "8"
      ]
     },
     "execution_count": 1,
     "metadata": {},
     "output_type": "execute_result"
    }
   ],
   "source": [
    "#CHECK 12\n",
    "from math import inf\n",
    "\n",
    "def maior(x,y):\n",
    "    if x > y: return x\n",
    "    else: return y\n",
    "\n",
    "def max_lista_ite(lt):\n",
    "    maximo = -inf\n",
    "    for elem in lt:\n",
    "        if maximo < elem: maximo = elem\n",
    "    return maximo\n",
    "    \n",
    "def max_lista_rec(lt):\n",
    "    if len(lt) == 1: return lt[0]\n",
    "    else: return maior(lt[0],max_lista_rec(lt[1:]))\n",
    "    \n",
    "max_lista_rec([1,8,3,7])"
   ]
  },
  {
   "cell_type": "markdown",
   "metadata": {},
   "source": [
    "#### P4.2) Idem Min_Lista(L) para o mínimo."
   ]
  },
  {
   "cell_type": "code",
   "execution_count": 7,
   "metadata": {},
   "outputs": [
    {
     "data": {
      "text/plain": [
       "2"
      ]
     },
     "execution_count": 7,
     "metadata": {},
     "output_type": "execute_result"
    }
   ],
   "source": [
    "#CHECK 12\n",
    "def menor(x,y):\n",
    "    if x > y: return y\n",
    "    else: return x\n",
    "\n",
    "def min_lista_ite(lt):\n",
    "    minimo = inf\n",
    "    for elem in lt:\n",
    "        if minimo > elem: minimo = elem\n",
    "    return minimo\n",
    "    \n",
    "def min_lista_rec(lt):\n",
    "    if len(lt) == 1: return lt[0]\n",
    "    else: return menor(lt[0],min_lista_rec(lt[1:]))\n",
    "\n",
    "min_lista_rec([7,4,2,8])"
   ]
  },
  {
   "cell_type": "markdown",
   "metadata": {},
   "source": [
    "#### P4.3) Função Inverte_Lista(L) que devolve a lista L invertida."
   ]
  },
  {
   "cell_type": "code",
   "execution_count": 7,
   "metadata": {},
   "outputs": [
    {
     "data": {
      "text/plain": [
       "[5, 4, 3, 1, 7]"
      ]
     },
     "execution_count": 7,
     "metadata": {},
     "output_type": "execute_result"
    }
   ],
   "source": [
    "#CHECK 12\n",
    "def inverte_lista_ite(lt):\n",
    "    aux = []\n",
    "    for i in range(len(lt),0,-1):\n",
    "        aux.append(lt[i-1])\n",
    "    return aux\n",
    "\n",
    "def inverte_lista_rec(lt):\n",
    "    if len(lt) == 0:\n",
    "        return lt\n",
    "    resp = []\n",
    "    resp.append(lt[-1])\n",
    "    return resp+inverte_lista_rec(lt[0:len(lt)-1])\n",
    "\n",
    "inverte_lista_rec([7,1,3,4,5])"
   ]
  },
  {
   "cell_type": "markdown",
   "metadata": {},
   "source": [
    "#### P4.4) Função Potencia(x, n) que recebe x ≠ 0 float e n ≥ 0 inteiro e devolve $x^n$"
   ]
  },
  {
   "cell_type": "code",
   "execution_count": 24,
   "metadata": {},
   "outputs": [
    {
     "data": {
      "text/plain": [
       "16"
      ]
     },
     "execution_count": 24,
     "metadata": {},
     "output_type": "execute_result"
    }
   ],
   "source": [
    "#CHECK 12\n",
    "def potencia_ite(x,n):\n",
    "    if type(x) != float and type(x) != int:\n",
    "        return print('Necessário x float')\n",
    "    if x == 0:\n",
    "        return print('Necessário x ≠ 0')\n",
    "    if n < 0:\n",
    "        return print('Necessário n >= 0')\n",
    "    result = x\n",
    "    for i in range(1,n+1):\n",
    "        result = result * x\n",
    "    return result\n",
    "\n",
    "def potencia_rec(x,n):\n",
    "    if x == 0:\n",
    "        return 'Necessário x ≠ 0'\n",
    "    if n < 0:\n",
    "        return 'Necessário n >= 0'\n",
    "    if n == 0:\n",
    "        return 1\n",
    "    else:\n",
    "        return x*potencia_rec(x,n-1)\n",
    "\n",
    "potencia_rec(2,4)"
   ]
  },
  {
   "cell_type": "markdown",
   "metadata": {},
   "source": [
    "#### P4.5) Função Soma_Seq(x, n) que recebe x float e n ≥ 0 inteiro e devolve o valor da soma: $x$ + $x^2$/2 + $x^3$/3 + .... + $x^n$/n"
   ]
  },
  {
   "cell_type": "code",
   "execution_count": 22,
   "metadata": {},
   "outputs": [
    {
     "data": {
      "text/plain": [
       "4.0"
      ]
     },
     "execution_count": 22,
     "metadata": {},
     "output_type": "execute_result"
    }
   ],
   "source": [
    "#CHECK 12\n",
    "def soma_seq_ite(x,n):\n",
    "    if type(x) != float and type(x) != int:\n",
    "        return print('Necessário x float')\n",
    "    if n < 0:\n",
    "        return print('Necessário n >= 0')\n",
    "    soma = 0\n",
    "    for i in range(1,n+1):\n",
    "        soma = soma + x**i/i\n",
    "    return soma\n",
    "\n",
    "def soma_seq_rec(x,n):\n",
    "    if type(x) != float and type(x) != int:\n",
    "        return print('Necessário x float')\n",
    "    if n < 0:\n",
    "        return print('Necessário n >= 0')\n",
    "    if n == 1:\n",
    "        return x\n",
    "    else:\n",
    "        return x**n/n + soma_seq_rec(x,n-1)\n",
    "soma_seq_rec(2,2)"
   ]
  },
  {
   "cell_type": "markdown",
   "metadata": {},
   "source": [
    "#### P4.6) Função Soma_Seq(x, eps) que recebe x float e eps float (eps - valor pequeno – ex: 10-5 x é um valor entre 0 e 1) e devolve o valor da soma acima até encontrar um termo que seja menor que eps."
   ]
  },
  {
   "cell_type": "code",
   "execution_count": null,
   "metadata": {},
   "outputs": [],
   "source": [
    "def soma_seq_ite(x,eps):\n",
    "    if type(x) != float and type(x) != int:\n",
    "        return print('Necessário x float')\n",
    "    if type(eps) != float and type(eps) != int:\n",
    "        return print('Necessário eps float')\n",
    "    \n",
    "def soma_seq_rec(x,eps):\n",
    "    pass"
   ]
  },
  {
   "cell_type": "markdown",
   "metadata": {},
   "source": [
    "#### P4.7) Função Busca(L, x) que recebe uma lista L e um valor x e procura x em L. Devolve o primeiro k tal que L[k] = x ou -1 se não encontrar. Está resolvido à frente, mas tente resolvê-lo sem ver a solução"
   ]
  },
  {
   "cell_type": "code",
   "execution_count": 23,
   "metadata": {},
   "outputs": [
    {
     "data": {
      "text/plain": [
       "0"
      ]
     },
     "execution_count": 23,
     "metadata": {},
     "output_type": "execute_result"
    }
   ],
   "source": [
    "#CHECK 12\n",
    "def busca_ite(lt,x):\n",
    "    for k in range(len(lt)):\n",
    "        if lt[k] == x:\n",
    "            return k\n",
    "    return -1\n",
    "\n",
    "def busca_rec(lt,x):\n",
    "    if len(lt) == 0: return -1\n",
    "    elif lt[0] == x: return 0\n",
    "    a = busca_rec(lt[1:],x)\n",
    "    if a == -1: return -1\n",
    "    return 1+a\n",
    "\n",
    "busca_rec([1,2,3,4],1)"
   ]
  },
  {
   "cell_type": "markdown",
   "metadata": {},
   "source": [
    "#### P4.8) Função Binomial(n, k) que devolve o número binomial de n e k. \n",
    "A definição recursiva do número binomial de n e k é:\n",
    "0 se n = 0 e k > 0\n",
    "1 se n ≥ 0 e k = 0\n",
    "Binomial(n-1, k) + Binomial(n-1, k-1) se n e k > 0"
   ]
  },
  {
   "cell_type": "code",
   "execution_count": null,
   "metadata": {},
   "outputs": [],
   "source": []
  },
  {
   "cell_type": "markdown",
   "metadata": {},
   "source": [
    "#### P4.9) Função Fibonacci(n). Recebe n > 1 e devolve o n-ésimo número da sequência de Fibonacci.\n",
    "#### P4.10) Quantas chamadas são necessárias, para se calcular Fibonacci(n) n ≥ 0?"
   ]
  },
  {
   "cell_type": "code",
   "execution_count": 47,
   "metadata": {},
   "outputs": [
    {
     "name": "stdout",
     "output_type": "stream",
     "text": [
      "chamada\n",
      "chamada\n",
      "0.0002666679999947519\n"
     ]
    }
   ],
   "source": [
    "#CHECK\n",
    "from time import perf_counter\n",
    "def Fibonacci_ite(n):\n",
    "    if n == 0: return 0 # casos\n",
    "    if n == 1: return 1 # particulares\n",
    "    anterior, atual = 0, 1\n",
    "    # repetir até o n-ésimo inclusive\n",
    "    for k in range(2, n + 1, 1):\n",
    "        anterior, atual = atual, anterior + atual\n",
    "    return atual\n",
    "\n",
    "def Fibonacci_rec(n):\n",
    "    if n == 0: return 0 # casos\n",
    "    if n == 1: return 1 # particulares\n",
    "    print('chamada')\n",
    "    return Fibonacci_rec(n - 1) + Fibonacci_rec(n - 2)\n",
    "\n",
    "t0 = perf_counter()\n",
    "Fibonacci_rec(3)\n",
    "t1 = perf_counter()\n",
    "print(t1-t0)"
   ]
  },
  {
   "cell_type": "markdown",
   "metadata": {},
   "source": [
    "#### P4.11) Idem a versão anterior percorrendo a lista a partir do final da mesma."
   ]
  },
  {
   "cell_type": "code",
   "execution_count": null,
   "metadata": {},
   "outputs": [],
   "source": [
    "#Versão Anterior\n",
    "# Procura x na lista a.\n",
    "# Devolve True ou False - usando sub-listas\n",
    "def busca(a, x):\n",
    "    if len(a) == 0: return False\n",
    "    if a[0] == x: return True\n",
    "    return busca(a[1:], x)"
   ]
  },
  {
   "cell_type": "markdown",
   "metadata": {},
   "source": [
    "#### P4.12) Idem versão anterior devolvendo o índice do primeiro elemento encontrado. Sugestão: em vez return busca(a[1:], x), podemos fazer return 1 + busca(a[1:], x). Modifique a definição para devolver algo diferente de -1 se não encontrar."
   ]
  },
  {
   "cell_type": "markdown",
   "metadata": {},
   "source": [
    "#### P4.13) Repita as soluções recursivas anteriores para a função busca, eliminado o parâmetro n (use a função len e sub-listas)."
   ]
  },
  {
   "cell_type": "markdown",
   "metadata": {},
   "source": [
    "#### P4.14) Reescreva a função abaixo apenas com o parâmetros L e x (def Busca_Binaria(L, x)). Use o tamanho de L e sub-listas."
   ]
  },
  {
   "cell_type": "code",
   "execution_count": null,
   "metadata": {},
   "outputs": [],
   "source": [
    "#Função original\n",
    "def Busca_Binaria(L, x, inicio, fim):\n",
    "    if inicio > fim: return -1 # tabela vazia\n",
    "    meio = (inicio + fim) // 2\n",
    "    if x == L[meio]: return meio\n",
    "    if x > L[meio]: return Busca_Binaria(L, x, meio + 1, fim)\n",
    "    return Busca_Binaria(L, x, inicio, fim - 1)"
   ]
  },
  {
   "cell_type": "markdown",
   "metadata": {},
   "source": [
    "#### P4.15) Escreva uma função recursiva para resolver o problema da Regra de Horner"
   ]
  },
  {
   "cell_type": "code",
   "execution_count": null,
   "metadata": {},
   "outputs": [],
   "source": []
  },
  {
   "cell_type": "markdown",
   "metadata": {},
   "source": [
    "#### P4.16) Escreva a função Potencia para expoente inteiro nas versões iterativa e recursiva."
   ]
  },
  {
   "cell_type": "code",
   "execution_count": null,
   "metadata": {},
   "outputs": [],
   "source": []
  },
  {
   "cell_type": "markdown",
   "metadata": {},
   "source": [
    "#### P4.17) Faça uma função pot(x, n) recursiva usando a definição acima. Verifique na sua solução quantas chamadas à função pot são feitas. O objetivo é que a função faça o mínimo de chamadas possível."
   ]
  },
  {
   "cell_type": "code",
   "execution_count": 6,
   "metadata": {},
   "outputs": [
    {
     "data": {
      "text/plain": [
       "375828023454801203683362418972386504867736551759258677056523839782231681498337708535732725752658844333702457749526057760309227891351617765651907310968780236464694043316236562146724416478591131832593729111221580180531749232777515579969899075142213969117994877343802049421624954402214529390781647563339535024772584901607666862982567918622849636160208877365834950163790188523026247440507390382032188892386109905869706753143243921198482212075444022433366554786856559389689585638126582377224037721702239991441466026185752651502936472280911018500320375496336749951569521541850441747925844066295279671872605285792552660130702047998218334749356321677469529682551765858267502715894007887727250070780350262952377214028842297486263597879792176338220932619489509376"
      ]
     },
     "execution_count": 6,
     "metadata": {},
     "output_type": "execute_result"
    }
   ],
   "source": [
    "def pot(x,n):\n",
    "    if n == 0: return 1\n",
    "    elif n == 1: return x\n",
    "    aux = pot(x,n//2)\n",
    "    if n%2 == 0: return aux*aux\n",
    "    else: return aux*aux*x\n",
    "\n",
    "pot(2,2500)"
   ]
  },
  {
   "cell_type": "markdown",
   "metadata": {},
   "source": [
    "#### P4.18) Quantas multiplicações são feitas para se calcular $x^n$ no algoritmo acima ?\n"
   ]
  },
  {
   "cell_type": "code",
   "execution_count": null,
   "metadata": {},
   "outputs": [],
   "source": []
  },
  {
   "cell_type": "markdown",
   "metadata": {},
   "source": [
    "#### P4.19) Refaça os 2 exercícios anteriores expandindo a definição para n negativo, lembrando que: xn = 1 / x- n se n < 0. Se n < 0 e x = 0 a função não está definida.\n"
   ]
  },
  {
   "cell_type": "code",
   "execution_count": null,
   "metadata": {},
   "outputs": [],
   "source": []
  },
  {
   "cell_type": "markdown",
   "metadata": {},
   "source": [
    "#### P4.20) Dado n e uma sequência com n números, imprimir a sequência na ordem inversa a que foi lida. Fazer isso sem usar listas. Sugestão: faça uma função recursiva imprime, que lê um número, chama a si própria se não chegou ao fim da sequência e imprime o número lido.\n"
   ]
  },
  {
   "cell_type": "code",
   "execution_count": null,
   "metadata": {},
   "outputs": [],
   "source": []
  },
  {
   "cell_type": "markdown",
   "metadata": {},
   "source": [
    "#### P4.21) Idem para uma sequência terminada por zero."
   ]
  },
  {
   "cell_type": "code",
   "execution_count": null,
   "metadata": {},
   "outputs": [],
   "source": []
  }
 ],
 "metadata": {
  "kernelspec": {
   "display_name": "Python 3",
   "language": "python",
   "name": "python3"
  },
  "language_info": {
   "codemirror_mode": {
    "name": "ipython",
    "version": 3
   },
   "file_extension": ".py",
   "mimetype": "text/x-python",
   "name": "python",
   "nbconvert_exporter": "python",
   "pygments_lexer": "ipython3",
   "version": "3.7.3"
  }
 },
 "nbformat": 4,
 "nbformat_minor": 2
}
