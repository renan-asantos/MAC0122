{
 "cells": [
  {
   "cell_type": "markdown",
   "metadata": {},
   "source": [
    "### Técnicas de hash"
   ]
  },
  {
   "cell_type": "markdown",
   "metadata": {},
   "source": [
    "Outra forma de busca rápida em tabela, é dividi-la em várias sub-tabelas e identificar em qual delas está.\n",
    "\n",
    "Determinar a posição do elemento dentro da tabela através de seu valor, através de uma função que transforma o valor do elemento numa posição da tabela (função de hash). \n",
    "\n",
    "O objetivo então é transformar a chave de busca em um índice na tabela, já que basta verificar se o elemento esta ou não nessa posição."
   ]
  },
  {
   "cell_type": "code",
   "execution_count": 23,
   "metadata": {},
   "outputs": [
    {
     "data": {
      "text/plain": [
       "4"
      ]
     },
     "execution_count": 23,
     "metadata": {},
     "output_type": "execute_result"
    }
   ],
   "source": [
    "def hash(x):\n",
    "    return x % 10\n",
    "\n",
    "def insere(a, x):\n",
    "    a[hash(x)] = x\n",
    "\n",
    "def busca_hash(a, x):\n",
    "    k = hash(x)\n",
    "    if a[k] == x: return k\n",
    "    return -1"
   ]
  },
  {
   "cell_type": "markdown",
   "metadata": {},
   "source": [
    "É sempre melhor escolher uma função que use uma tabela com um número razoável de elementos. "
   ]
  },
  {
   "cell_type": "markdown",
   "metadata": {},
   "source": [
    "### Hash e Espalhamento"
   ]
  },
  {
   "cell_type": "markdown",
   "metadata": {},
   "source": [
    "Problema: como tratar os elementos cujo valor da função de hash é o mesmo? Chamamos tal situação de colisões.\n",
    "\n",
    "Basta colocar o elemento na primeira posição livre\n",
    "seguinte e considerar a tabela circular (o elemento seguinte ao último a[n-1] é o primeiro a[0]). Isso se aplica tanto na inserção de novos elementos quanto na busca."
   ]
  },
  {
   "cell_type": "code",
   "execution_count": null,
   "metadata": {},
   "outputs": [],
   "source": [
    "def hash(x, M):\n",
    "    return x % M\n",
    "\n",
    "def insere_hash(a, x):\n",
    "    M = len(a)\n",
    "    cont = 0\n",
    "    i = hash(x, M)\n",
    "    # procura a próxima posição livre\n",
    "    while a[i] != None:\n",
    "        if a[i] == x: return -1 # valor já existente na tabela\n",
    "        cont += 1 # conta os elementos da tabela\n",
    "        if cont == M: return -2 # tabela cheia\n",
    "        i = (i + 1) % M # tabela circular\n",
    "    # achamos uma posição livre - coloque x nesta posição\n",
    "    a[i] = x\n",
    "return i\n",
    "\n",
    "def busca_hash(a, x):\n",
    "    M = len(a)\n",
    "    cont = 0\n",
    "    i = hash(x, M)\n",
    "    # procura x a partir da posição i\n",
    "    while a[i] != x:\n",
    "        if a[i] == None: return -1 # não achou x, pois há uma vazia\n",
    "        cont += 1 # conta os elementos da tabela\n",
    "        if cont == M: return -2; # a tabela está cheia\n",
    "        i = (i + 1) % M # tabela circular\n",
    "    # encontrou\n",
    "    return i"
   ]
  },
  {
   "cell_type": "markdown",
   "metadata": {},
   "source": [
    "### Lista linear - duplo hash"
   ]
  },
  {
   "cell_type": "markdown",
   "metadata": {},
   "source": [
    "Quando a tabela está muito cheia a busca sequencial pode levar a um número muito grande de comparações antes que se encontre o elemento ou se conclua que ele não está na tabela.\n",
    "\n",
    "Uma forma de permitir um espalhamento maior é fazer com que o deslocamento em vez de 1 seja dado por uma segunda função de hash.\n",
    "\n",
    "Essa segunda função de hash tem que ser escolhida com cuidado. Não pode dar zero (loop infinito). Deve ser\n",
    "tal que a soma do índice atual com o deslocamento (módulo **M**) dê sempre um número diferente até que os **M**\n",
    "números sejam verificados. Para isso **M** e o valor desta função devem ser primos entre si.\n",
    "\n",
    "Uma maneira é escolher **M** primo e garantir que a segunda função de hash tenha um valor constante **K** menor\n",
    "    que **M** e maior que 1. Dessa forma **M** e **K** são primos entre si. A expressãxo (j * K) % M (j=0, ..., a\n",
    "M -1) gera todos os números de 0 a M -1. O mesmo ocorre com a expressão (c + j * K) % M, onde c\n",
    "é uma constante."
   ]
  },
  {
   "cell_type": "code",
   "execution_count": null,
   "metadata": {},
   "outputs": [],
   "source": [
    "def hash(x, M):\n",
    "    pass # valor da função\n",
    "\n",
    "def hash2():\n",
    "    pass # valor da função - passo\n",
    "\n",
    "def insere_hash(a, x):\n",
    "    M = len(a)\n",
    "    cont = 0\n",
    "    i = hash(x, M)\n",
    "    k = hash2()\n",
    "    # procura a próxima posição livre\n",
    "    while a[i] != None:\n",
    "        if a[i] == x: return -1 # valor já existente na tabela\n",
    "        cont += 1 # conta os elementos da tabela\n",
    "        if cont == M: return -2 # tabela cheia\n",
    "        i = (i + k) % M # tabela circular\n",
    "    # achamos uma posição livre - coloque x nesta posição\n",
    "    a[i] = x\n",
    "    return i\n",
    "\n",
    "def busca_hash(a, x):\n",
    "    M = len(a)\n",
    "    cont = 0\n",
    "    i = hash(x, M)\n",
    "    k = hash2()\n",
    "    # procura x a partir da posição i\n",
    "    while a[i] != x:\n",
    "        if a[i] == None: return -1 # não achou x, pois há uma vazia\n",
    "        cont += 1 # conta os elementos da tabela\n",
    "        if cont == M: return -2; # a tabela está cheia\n",
    "        i = (i + k) % M # tabela circular\n",
    " # encontrou\n",
    " return i"
   ]
  },
  {
   "cell_type": "markdown",
   "metadata": {},
   "source": [
    "### Hash com sub-listas do Python"
   ]
  },
  {
   "cell_type": "markdown",
   "metadata": {},
   "source": [
    "Python pode ter listas dentro de listas, construir tabela Hash contendo sub-listas com os elementos que têm o mesmo valor da função de hash.\n",
    "\n",
    "Colocando 23, 42, 33, 52, 12, 58 (inseridos nesta ordem) em uma tabela de 10 elementos e (x % 10) como função de hash, temos:\n",
    "\n",
    "[None, None, [42, 52, 12], [23, 33], None, None, None, None, 58, None]"
   ]
  },
  {
   "cell_type": "code",
   "execution_count": null,
   "metadata": {},
   "outputs": [],
   "source": [
    "def hash(x, M):\n",
    "    return x % M\n",
    "\n",
    "# Insere x na tabela de hash a\n",
    "# Devolve (None, None) - não inseriu porque já estava\n",
    "# (i, None) - se inseriu em a[i]\n",
    "# (i, j) - se inseriu em a[i][j]\n",
    "def insere_hash(a, x):\n",
    "    M = len(a)\n",
    "    i = hash(x, M)\n",
    "    # tentar inserir x na tabela\n",
    "    if a[i] is None:\n",
    "        a[i] = x\n",
    "        return (i, None)\n",
    "    # se a[i] é uma lista\n",
    "    if type(a[i]) is list:\n",
    "        # procura x em a[i]\n",
    "        if x in a[i]:\n",
    "            return (None, None) # x já está na tabela\n",
    "        # pode inserir x na lista a[i]\n",
    "        k = len(a[i])\n",
    "        a[i].append(x)\n",
    "        return (i, k)\n",
    "    # a[i] é um elemento simples\n",
    "    if a[i] == x:\n",
    "        return (None, None) # já está\n",
    "    # iniciar a lista em a[i] e inserir elemento\n",
    "    a[i] = [a[i], x]\n",
    "    return(i, 1)\n",
    "\n",
    "# Procura x na tabela de hash a\n",
    "# Devolve (None, None) - se x não está na tabela\n",
    "# (i, None) - se x == a[i]\n",
    "# (i, j) - se x == a[i][j]\n",
    "def busca_hash(a, x):\n",
    "    M = len(a)\n",
    "    i = hash(x, M)\n",
    "    # x não está na tabela\n",
    "    if a[i] is None:\n",
    "        return (None, None)\n",
    "    # se a[i] é uma lista\n",
    "    if type(a[i]) is list:\n",
    "        # procura x em a[i]\n",
    "        for k in range(len(a[i])):\n",
    "            if x == a[i][k]:\n",
    "                return (i, k)\n",
    "        # não encontrou\n",
    "        return (None, None)\n",
    "    # a[i] é um elemento simples\n",
    "    if a[i] == x:\n",
    "        return (i, None) # encontrou\n",
    "    # não encontrou\n",
    "    return(None, None)"
   ]
  },
  {
   "cell_type": "markdown",
   "metadata": {},
   "source": [
    "### Hash com listas ligadas"
   ]
  },
  {
   "cell_type": "code",
   "execution_count": 26,
   "metadata": {},
   "outputs": [
    {
     "name": "stdout",
     "output_type": "stream",
     "text": [
      "tabela de elementos:\n",
      " [34, 54, 89, 98, 134, 85, 99]\n",
      "\n",
      "Lista  0\n",
      "*** 85\n",
      "\n",
      "Lista  1\n",
      "\n",
      "Lista  2\n",
      "\n",
      "Lista  3\n",
      "*** 98\n",
      "\n",
      "Lista  4\n",
      "*** 99\n",
      "*** 134\n",
      "*** 89\n",
      "*** 54\n",
      "*** 34\n",
      "\n",
      "teste - procura elementos\n",
      "não achou\n",
      "não achou\n",
      "34  * achou\n",
      "54  * achou\n",
      "89  * achou\n",
      "98  * achou\n",
      "134  * achou\n",
      "85  * achou\n",
      "99  * achou\n"
     ]
    }
   ],
   "source": [
    "class Node:\n",
    "    def __init__ (self, info, prox):\n",
    "        # inicia os campos\n",
    "        self._info = info\n",
    "        self._prox = prox\n",
    "        \n",
    "class TabelaHashListaLigada:\n",
    "\n",
    "    # métodos da classe\n",
    "    def __init__ (self, M):\n",
    "        ''' cria M LLs vazias.'''\n",
    "        self._numheads = M\n",
    "        self._head = [None] * M\n",
    "    \n",
    "    def hash(self, x, M):\n",
    "        return x % M\n",
    "    \n",
    "    def insere(self, e):\n",
    "        ''' adiciona elemento no inicio da LL\n",
    "            adiciona sempre - inclusive se já estiver.'''\n",
    "        # novo nó referencia o inicio da LL\n",
    "        k = self.hash(e, self._numheads)\n",
    "        novo = Node(e, self._head[k])\n",
    "        # novo nó será o inicio da LL\n",
    "        self._head[k] = novo\n",
    "    \n",
    "    def procura(self, e):\n",
    "        ''' procura elemento com info = e.\n",
    "            devolve referência para esse elemento ou None se não acha.'''\n",
    "        k = self.hash(e, self._numheads)\n",
    "        # p percorre a lista\n",
    "        p = self._head[k]\n",
    "        while p is not None:\n",
    "            if p._info == e: return p # achou\n",
    "            p = p._prox # vai para o próximo\n",
    "        # se chegou aqui é porque não achou\n",
    "        return None\n",
    "    \n",
    "    def MostraTabHash(self):\n",
    "        ''' mostra cada uma das listas.'''\n",
    "        for k in range(self._numheads):\n",
    "            print(\"\\nLista \", k)\n",
    "            p = self._head[k]\n",
    "            while p is not None:\n",
    "                print(\"***\", p._info)\n",
    "                p = p._prox\n",
    "                \n",
    "# cria tabela de valores\n",
    "tabela = [34, 54, 89, 98, 134, 85,99]\n",
    "print(\"tabela de elementos:\\n\", tabela)\n",
    "\n",
    "# Cria tabela hash ligada com NumLL LLs e insere valores\n",
    "NumLL = 5\n",
    "TabHash = TabelaHashListaLigada(NumLL)\n",
    "\n",
    "# insere os elementos na tabela\n",
    "for k in tabela:\n",
    "    TabHash.insere(k)\n",
    "\n",
    "# mostra a tabela construida\n",
    "TabHash.MostraTabHash()\n",
    "\n",
    "# teste - procura elementos\n",
    "print(\"\\nteste - procura elementos\")\n",
    "if TabHash.procura(33) is None:\n",
    "    print(\"não achou\")\n",
    "if TabHash.procura(55) is None:\n",
    "    print(\"não achou\")\n",
    "for elem in tabela:\n",
    "    if TabHash.procura(elem) is None:\n",
    "        print(elem, \" * não achou\")\n",
    "    else:\n",
    "        print(elem, \" * achou\")"
   ]
  },
  {
   "cell_type": "markdown",
   "metadata": {},
   "source": [
    "### Tabelas dinâmicas"
   ]
  },
  {
   "cell_type": "markdown",
   "metadata": {},
   "source": [
    "A busca numa tabela de hash de qualquer tipo fica mais demorada à medida que a tabela fica mais cheia.\n",
    "Enquanto a tabela está com poucos elementos, a busca tende a ser sempre muito rápida.\n",
    "\n",
    "Uma solução para o problema de tabela muito cheia é aumentar o seu tamanho quando começar a ficar cheia. \n",
    "\n",
    "Adotando a seguinte convenção para uma tabela de N elementos: quando a tabela passa de N/2 elementos,\n",
    "dobramos o seu tamanho. Assim sempre a tabela terá menos da metade de seus elementos ocupados.\n",
    "\n",
    "Usando váriaveis globais, temos:"
   ]
  },
  {
   "cell_type": "code",
   "execution_count": 27,
   "metadata": {},
   "outputs": [],
   "source": [
    "# Inicia as variáveis globais da tabela hash dinâmica\n",
    "M = 100 # tamanho da tabela\n",
    "MM = 0 # novo tamanho da tabela\n",
    "N = 0 # quantidade de elementos da tabela\n",
    "p = [None] * M # esta é a tabela de hash em uso\n",
    "q = [] # nova tabela de hash\n",
    "\n",
    "def hash(x, T):\n",
    "    # devolve a função de hash para o elemento x e tabela de tamanho T\n",
    "    return x % T\n",
    "\n",
    "# insere novamente x na nova tabela q\n",
    "def insere_nova(x):\n",
    "    global M, MM, N, p, q\n",
    "    i = hash(x, MM);\n",
    "    # procura a próxima posição livre\n",
    "    # sempre tem lugar, pois a tabela foi duplicada\n",
    "    while q[i] != None:\n",
    "        i = (i + 1) % MM # tabela circular\n",
    "    # achamos uma posição livre\n",
    "    q[i] = x\n",
    "    return i\n",
    "\n",
    "# expande a tabela para o dobro do tamanho\n",
    "def expande():\n",
    "    global M, MM, N, p, q\n",
    "    MM = 2 * M\n",
    "    q = [None] * MM # nova lista com o dobro de elementos\n",
    "    # insere todos os elementos na tabela nova\n",
    "    for i in range(M):\n",
    "        if p[i] != None: insere_nova(p[i])\n",
    "    # novos valores para M e p\n",
    "    M = MM\n",
    "    p = q # p e q são a mesma lista\n",
    "\n",
    "# insere elemento na tabela hash\n",
    "def insere(x):\n",
    "    global M, MM, N, p, q\n",
    "    # verifica se o tamanho da tabela está adequado\n",
    "    if M < N + N:\n",
    "        # se já tem a metade cheia, é melhor expandir\n",
    "        expande()\n",
    "    i = hash(x, M);\n",
    "    # procura a próxima posição livre - sempre vai encontrar\n",
    "    while p[i] != None:\n",
    "        # encontrou - insere x se já não está\n",
    "        if p[i] == x: return -1 # valor já existente na tabela\n",
    "        i = (i + 1) % M # tabela circular\n",
    "    # achamos uma posição livre\n",
    "    p[i] = x\n",
    "    N += 1\n",
    "    return i;\n",
    "\n",
    "def busca_hash(x):\n",
    "    global M, MM, N, p, q\n",
    "    i = hash(x, M)\n",
    "    cont = 0\n",
    "    # procura x a partir da posição i\n",
    "    while p[i] != x:\n",
    "        if p[i] == None: return -1 # não achou x, pois há uma vazia\n",
    "        cont += 1 # conta os elementos da tabela\n",
    "        if cont == N: return -2; # esse é o último – não achou\n",
    "        i = (i + 1) % M # tabela circular\n",
    "    # encontrou\n",
    "    return i"
   ]
  },
  {
   "cell_type": "markdown",
   "metadata": {},
   "source": [
    "### Remoção de elementos"
   ]
  },
  {
   "cell_type": "markdown",
   "metadata": {},
   "source": [
    "Considere a estrutura de lista simples de hash ou mesmo dupla hash. Quando se remove um elemento, a tabela\n",
    "perde sua estrutura de hash. Portanto, remoções não podem ser feitas."
   ]
  },
  {
   "cell_type": "markdown",
   "metadata": {},
   "source": [
    "### Exercícios"
   ]
  },
  {
   "cell_type": "markdown",
   "metadata": {},
   "source": [
    "1. Deseja-se construir uma tabela do tipo hash com os números:\n",
    "\n",
    "   1.2 1.7 1.3 1.8 1.42 1.51\n",
    "   \n",
    "   Diga qual seria uma boa função de hash e o número de elementos da tabela\n",
    "\n",
    "R. Tabela com máximo de 7 elementos, Função Hash round((x * 10 % M)) CHECK\n",
    "\n",
    "2. E para os números \n",
    "\n",
    "   1.2 1.3 1.8 5.3 5.21 5.7 5.43 8.3 8.4 8.47 8.8\n",
    "   \n",
    "R. Tabela com máximo de 100 elementos, Função Hash round((x * np.pi * 200%100)) CHECK\n",
    "   \n",
    "3. Idem\n",
    "\n",
    "   a) 7 números entre 0.1 e 0.9 (1 casa decimal)\n",
    "   b) 15 números entre 35 e 70 (inteiros)\n",
    "   c) 10 números entre -42 e -5 (inteiros)\n",
    "   \n",
    "R. Tabela com máximo de 11 elementos, Função Hash (x * 10 % M) CHECK\n",
    "\n",
    "R. Tabela com máximo de 23 elementos, Função Hash ((x-35) * (M – 1))/(70-35)\n",
    "\n",
    "R. Tabela com máximo de x elementos, Função Hash abs(int(round(((x+45) * (M - 1))/(-5+45)))) CHECK\n",
    "\n",
    "4. Idem com um máximo de 1.000 números entre 0 e 1 com no máximo 5 algarismos significativos.\n",
    "\n",
    "R. Tabela com 1021 elementos, Função Hash round((x * 10e5 % M)) CHECK\n",
    "\n",
    "5. Idem com um máximo de 1.000.000 de números fracionários entre 0 e 1 com no máximo 10 dígitos significativos.\n",
    "\n",
    "R. Tabela com 1048573 elementos, Função Hash round((x * 10e10 % M)) CHECK"
   ]
  },
  {
   "cell_type": "code",
   "execution_count": 302,
   "metadata": {},
   "outputs": [
    {
     "data": {
      "text/plain": [
       "[6, 3, 9, 8, 18, 17, 2, 1, 20, 20, 7]"
      ]
     },
     "execution_count": 302,
     "metadata": {},
     "output_type": "execute_result"
    }
   ],
   "source": [
    "import numpy as np\n",
    "\n",
    "l = [1.2, 1.3, 1.8, 5.3, 5.21, 5.7, 5.43, 8.3, 8.4, 8.47, 8.8]\n",
    "\n",
    "inicio, fim, N = -45, -5, 10\n",
    "# l_rand = np.random.randint(inicio,fim,size = N)\n",
    "# l_rand.sort()\n",
    "l_rand = [-44, -43, -40, -36, -35, -27, -25, -19,  -7,  -6]\n",
    "\n",
    "l_01 = np.random.rand(1000)\n",
    "\n",
    "l2 = [0.1,0.3,0.4,0.5,0.6,0.8,0.9]\n",
    "\n",
    "def hash(a, x):\n",
    "    M = 15\n",
    "    return round((x*np.pi*200%22))\n",
    "    #return abs(int(round(((x+45)*(M - 1))/(-5+45))))\n",
    "\n",
    "def verifica(l_inicial):\n",
    "    l_nova = []\n",
    "    for i in l_inicial:\n",
    "        l_nova.append(hash(l_inicial,i))\n",
    "    return l_nova\n",
    "    \n",
    "verifica(l)"
   ]
  }
 ],
 "metadata": {
  "kernelspec": {
   "display_name": "Python 3",
   "language": "python",
   "name": "python3"
  },
  "language_info": {
   "codemirror_mode": {
    "name": "ipython",
    "version": 3
   },
   "file_extension": ".py",
   "mimetype": "text/x-python",
   "name": "python",
   "nbconvert_exporter": "python",
   "pygments_lexer": "ipython3",
   "version": "3.7.3"
  },
  "toc": {
   "base_numbering": 1,
   "nav_menu": {},
   "number_sections": true,
   "sideBar": true,
   "skip_h1_title": false,
   "title_cell": "Table of Contents",
   "title_sidebar": "Contents",
   "toc_cell": false,
   "toc_position": {},
   "toc_section_display": true,
   "toc_window_display": false
  }
 },
 "nbformat": 4,
 "nbformat_minor": 2
}
