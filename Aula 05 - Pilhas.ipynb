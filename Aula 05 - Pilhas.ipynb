{
 "cells": [
  {
   "cell_type": "markdown",
   "metadata": {},
   "source": [
    "## Aula"
   ]
  },
  {
   "cell_type": "code",
   "execution_count": 8,
   "metadata": {},
   "outputs": [
    {
     "name": "stdout",
     "output_type": "stream",
     "text": [
      "2 2.0 2.0 -1\n",
      "1 1.0 -1\n",
      "0 -1\n"
     ]
    }
   ],
   "source": [
    "#inicia Pilha Vazia\n",
    "def init(P):\n",
    "    P = []\n",
    "#Empilha novo elemento\n",
    "def push(P, x):\n",
    "    P.append(x)\n",
    "#Retorna True se a pilha está vazia\n",
    "def is_empty(P):\n",
    "    return len(P) == 0\n",
    "#Retorna elemento do topo da pilha\n",
    "def top(P):\n",
    "    if is_empty(P): return None\n",
    "    return P[-1]\n",
    "#Remove elemento do topo da pilha\n",
    "def pop(P):\n",
    "    if is_empty(P): return None\n",
    "    return P.pop()\n",
    "\n",
    "#Aplicações (os programas guardam variáveis em uma pilha)\n",
    "def f1():\n",
    "    a = 1 # pilha = a, z, a\n",
    "    b = 1.0 # pilha = a, z, a, b\n",
    "    def f2():\n",
    "        a = 2 # pilha = a, z, a, b, a\n",
    "        b = 2.0 # pilha = a, z, a, b, a, b\n",
    "        c = 2.0 # pilha = a, z, a, b, a, b, c\n",
    "        print(a, b, c, z)\n",
    "    f2()\n",
    "    print(a, b, z) # pilha = a, z, a, b\n",
    "a = 0 # pilha = a\n",
    "z = -1 # pilha = a, z\n",
    "f1()\n",
    "print(a, z)"
   ]
  },
  {
   "cell_type": "markdown",
   "metadata": {},
   "source": [
    "#### P5.1) Reescrever as funções init() e push() com o parâmetro MaxTamPil"
   ]
  },
  {
   "cell_type": "code",
   "execution_count": 1,
   "metadata": {},
   "outputs": [],
   "source": [
    "def init(P, MaxTamPil):\n",
    "    P = [None for i in range(MaxTamPil)]\n",
    "def push(P , x, MaxTamPil):\n",
    "    if len(P) == MaxTamPil: return False\n",
    "    P.append(x)"
   ]
  },
  {
   "cell_type": "markdown",
   "metadata": {},
   "source": [
    "#### P5.2) Dada uma expressão, verificar se os parêntesis estão balanceados"
   ]
  },
  {
   "cell_type": "code",
   "execution_count": 7,
   "metadata": {},
   "outputs": [
    {
     "name": "stdout",
     "output_type": "stream",
     "text": [
      "True\n"
     ]
    }
   ],
   "source": [
    "a = '(1,2,3)'\n",
    "b = ')('\n",
    "def verifica_cont(exp):\n",
    "    cont = 0\n",
    "    for elem in str(exp):\n",
    "        if elem == '(': cont+=1\n",
    "        if elem == ')': cont-= 1\n",
    "        if cont < 0: return False\n",
    "    if cont == 0: return True\n",
    "    else: return False\n",
    "    \n",
    "def verifica_pil(exp):\n",
    "    P = []\n",
    "    try:\n",
    "        for elem in exp:\n",
    "            if elem == '(': \n",
    "                push(P, elem)\n",
    "            elif elem == ')':\n",
    "                if pop(P) == None:\n",
    "                    return False\n",
    "                pop(P)\n",
    "        if not is_empty(P):\n",
    "            return False\n",
    "        return True\n",
    "    except:\n",
    "        return False\n",
    "print(verifica_pil(a))"
   ]
  },
  {
   "cell_type": "markdown",
   "metadata": {},
   "source": [
    "#### P5.3) Supondo agora que a expressão possa conter também [] e {} além de ().  Exemplo: {a * [b + c * (d – e) * {a – b}]}"
   ]
  },
  {
   "cell_type": "code",
   "execution_count": null,
   "metadata": {},
   "outputs": [],
   "source": [
    "def prioridade(x):\n",
    "    if x == '(' or x == ')': return 3\n",
    "    elif x == '[' or x == ']': return 2\n",
    "    elif x == '{' or x == '}': return 1\n",
    "\n",
    "def verifica_pil(exp):\n",
    "    P = PilhaLista()\n",
    "    \n",
    "    for elem in exp:\n",
    "        if elem == '(' or elem == ')':\n",
    "            while prioridade(elem) \n",
    "    try:\n",
    "        for elem in exp:\n",
    "            if prioridade(x)\n",
    "            if elem == '(': \n",
    "                push(P, elem)\n",
    "            elif elem == ')':\n",
    "                if pop(P) == None:\n",
    "                    return False\n",
    "                pop(P)\n",
    "        if not is_empty(P):\n",
    "            return False\n",
    "        return True\n",
    "    except:\n",
    "        return False"
   ]
  },
  {
   "cell_type": "markdown",
   "metadata": {},
   "source": [
    " "
   ]
  },
  {
   "cell_type": "markdown",
   "metadata": {},
   "source": [
    "#### P5.4) Escreva também dentro do ADT PilhaLista, a função __ str __(self), para permitir a impressão de uma pilha no formato vertical. Por exemplo, no exemplo abaixo, o comando print(P) deveria imprimir: \n",
    "\n",
    "3 - True\n",
    "\n",
    "2 - (5,4,3)\n",
    "\n",
    "1 - tipo de elemento\n",
    "\n",
    "0 - 1"
   ]
  },
  {
   "cell_type": "code",
   "execution_count": 7,
   "metadata": {},
   "outputs": [
    {
     "name": "stdout",
     "output_type": "stream",
     "text": [
      "tamanho da pilha =  4\n",
      "elemento do topo da pilha =  True\n",
      "3 - True\n",
      "2 - (5, 4, 3)\n",
      "1 - tipo de elemento\n",
      "0 - 1\n",
      "\n"
     ]
    }
   ],
   "source": [
    "class PilhaLista:\n",
    "    \n",
    "    '''Pilha como uma lista.'''\n",
    "    \n",
    "    # Construtor da classe PilhaLista\n",
    "    def __init__(self):\n",
    "        self._pilha = [] # lista que conterá a pilha\n",
    "    # retorna o tamanho da pilha\n",
    "    def __len__ (self):\n",
    "        return len(self._pilha)\n",
    "    # retorna True se pilha vazia\n",
    "    def is_empty(self):\n",
    "        return len(self._pilha) == 0\n",
    "    # empilha novo elemento e\n",
    "    def push(self, e):\n",
    "        self._pilha.append(e)\n",
    "    # retorna o elemento do topo da pilha sem retirá-lo\n",
    "    # exceção se pilha vazia\n",
    "    def top(self):\n",
    "        if self.is_empty():\n",
    "            raise IndexError(\"Pilha vazia\")\n",
    "        return self._pilha[-1]\n",
    "    # desempilha elemento\n",
    "    # excessão se pilha vazia\n",
    "    def pop(self):\n",
    "        if self.is_empty():\n",
    "            raise IndexError(\"Pilha vazia\")\n",
    "        return self._pilha.pop()\n",
    "    \n",
    "    # imprime pilha no formato vertical\n",
    "    def __str__(self):\n",
    "        result = ''\n",
    "        for i in range(len(self._pilha)-1,-1,-1):\n",
    "            result += '{} - {}\\n'.format(str(i),str(self._pilha[i]))\n",
    "        return result\n",
    "    \n",
    "# testes\n",
    "P = PilhaLista()\n",
    "P.push(1)\n",
    "P.push(\"tipo de elemento\")\n",
    "P.push((5, 4, 3))\n",
    "P.push(True)\n",
    "print(\"tamanho da pilha = \", len(P))\n",
    "print(\"elemento do topo da pilha = \", P.top())\n",
    "print(P)\n",
    "#print(P.pop())\n",
    "#print(P.pop())\n",
    "#print(P.pop())\n",
    "#print(P.pop())\n",
    "# os comandos abaixo geram uma excessão\n",
    "#x = P.pop()\n",
    "#x = P.top()"
   ]
  }
 ],
 "metadata": {
  "kernelspec": {
   "display_name": "Python 3",
   "language": "python",
   "name": "python3"
  },
  "language_info": {
   "codemirror_mode": {
    "name": "ipython",
    "version": 3
   },
   "file_extension": ".py",
   "mimetype": "text/x-python",
   "name": "python",
   "nbconvert_exporter": "python",
   "pygments_lexer": "ipython3",
   "version": "3.7.3"
  }
 },
 "nbformat": 4,
 "nbformat_minor": 2
}
