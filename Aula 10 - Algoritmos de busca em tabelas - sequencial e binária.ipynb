{
 "cells": [
  {
   "cell_type": "markdown",
   "metadata": {},
   "source": [
    "### Busca Sequencial"
   ]
  },
  {
   "cell_type": "markdown",
   "metadata": {},
   "source": [
    "Consiste em varrer uma tabela a procura de um determinado elemento, verificando ao final se o mesmo foi ou\n",
    "não foi encontrado."
   ]
  },
  {
   "cell_type": "code",
   "execution_count": 4,
   "metadata": {},
   "outputs": [],
   "source": [
    "def busca1(a, x):\n",
    "    n = len(a)\n",
    "    for i in range(n):\n",
    "        if a[i] == x: return i\n",
    "    return -1\n",
    "\n",
    "def busca2(a, x):\n",
    "    n = len(a)\n",
    "    i = 0\n",
    "    while i < n and a[i] != x:\n",
    "        i += 1\n",
    "    # verifica se parou porque chegou ao fim ou encontrou um igual\n",
    "    if i == n: return -1 # chegou a\n",
    "    return i # encontrou um igual"
   ]
  },
  {
   "cell_type": "markdown",
   "metadata": {},
   "source": [
    "Para Busca1, temos a comparação (a[i] == x) sendo executada:\n",
    "\n",
    "Máximo = n (n encontra ou x = a[n-1])\n",
    "\n",
    "Mínimo = 1 (x = a[0])\n",
    "\n",
    "Médio = (n+1)/2 (aqui com a hipótese de que a probabilidade de ser encontrada em cada lugar é a mesma)\n",
    "\n",
    "O(n)"
   ]
  },
  {
   "cell_type": "markdown",
   "metadata": {},
   "source": [
    "Se tiverem probabilidades diferentes temos:\n",
    "\n",
    "Colocar no início da tabela os elementos com maior frequência, já que serão encontrados com menos comparações.\n",
    "\n",
    "    Suponha agora que a probabilidade do elemento procurado ser a[i] é pi.\n",
    "    Σ pi (0<=i<n) é a probabilidade de x estar na tabela.\n",
    "    Σ pi < 1 se existe alguma chance de x não estar na tabela.\n",
    "    1 - Σ pi é a probabilidade de x não estar na tabela.\n",
    "    O número médio de comparações será então:\n",
    "    1.p0 + 2.p1 + 3.p2 + ... + n.p(n-1) + n.( 1 - Σ pi )\n",
    "\n",
    "Nº médio de comparações é menor do que normalmente."
   ]
  },
  {
   "cell_type": "markdown",
   "metadata": {},
   "source": [
    "### Busca sequencial em tabela ordenada"
   ]
  },
  {
   "cell_type": "markdown",
   "metadata": {},
   "source": [
    "Modificação: se durante a busca, encontrar um elemento que é maior que x, não adianta continuar a procurar, já que todos os outros também serão maiores."
   ]
  },
  {
   "cell_type": "code",
   "execution_count": null,
   "metadata": {},
   "outputs": [],
   "source": [
    "def busca(a, x):\n",
    "    n = len(a)\n",
    "    for i in range(n):\n",
    "        if a[i] == x: return i # encontrou\n",
    "        if a[i] > x: return -1 # não adianta continuar procurando    return -1\n",
    "\n",
    "def busca(a, x):\n",
    "    n = len(a)\n",
    "    i = 0\n",
    "    while i < n and a[i] < x: i += 1\n",
    "    # verifica se parou porque chegou ao fim ou encontrou um igual\n",
    "    if i == n: return -1 # chegou ao final\n",
    "    if a[i] == x: return i # achou\n",
    "    return -1 # encontrou um maior então não adianta procurar mais"
   ]
  },
  {
   "cell_type": "markdown",
   "metadata": {},
   "source": [
    "### Busca binária em tabela ordenada"
   ]
  },
  {
   "cell_type": "markdown",
   "metadata": {},
   "source": [
    "1) Testa com o elemento do meio da tabela;\n",
    "\n",
    "2) Se for igual, termina o algoritmo porque encontrou o elemento;\n",
    "\n",
    "3) Se o elemento do meio é maior, repete o processo considerando a tabela do inicio até o meio – 1;\n",
    "\n",
    "4) Se o elemento do meio é menor, repete o processo considerando a tabela do meio + 1 até o final;\n",
    "\n",
    "Se o elemento não está na tabela, chegará o momento em que a tabela restante terá zero elementos que é o\n",
    "outro critério de parada do algoritmo."
   ]
  },
  {
   "cell_type": "code",
   "execution_count": 5,
   "metadata": {},
   "outputs": [],
   "source": [
    "def buscabinaria(a, x):\n",
    "    n = len(a)\n",
    "    inicio = 0\n",
    "    final = n - 1\n",
    "    # Enquanto a tabela tem elementos continue procurando\n",
    "    while inicio <= final:\n",
    "        meio = (inicio + final) // 2\n",
    "        if a[meio] == x: return meio # encontrou o procurado\n",
    "        # verifica se continua a procura na parte superior ou inferior\n",
    "        if x < a[meio]: final = meio - 1 # parte superior\n",
    "        else: inicio = meio + 1 # parte inferior\n",
    "    return -1"
   ]
  },
  {
   "cell_type": "markdown",
   "metadata": {},
   "source": [
    "#### Exercício\n"
   ]
  },
  {
   "cell_type": "markdown",
   "metadata": {},
   "source": [
    "Considerando a tabela [2 5 7 11 13 17 25].\n",
    "\n",
    "1) Quantas comparações serão necessárias para procurar cada um dos 7 elementos da tabela?  \n",
    "P/ busca sequencial      P/ busca binária  \n",
    "2 -> 1                   2 -> 3  \n",
    "5 -> 2                   5 -> 2  \n",
    "7 -> 3                   7 -> 3  \n",
    "11 -> 4                  11 -> 1  \n",
    "13 -> 5                  13 -> 3  \n",
    "17 -> 6                  17 -> 2  \n",
    "25 -> 7                  25 -> 3  \n",
    "\n",
    "2) Diga quantas comparações serão necessárias para procurar os seguintes números que não estão na tabela 12, 28, 1, 75, 8?  \n",
    "P/ busca sequencial      P/ busca binária\n",
    "12 -> 7                  12 -> 3\n",
    "28 -> 7                  28 -> 3\n",
    "1 -> 7                   1 -> 3\n",
    "75 -> 7                  75 -> 3\n",
    "8 -> 7                   8 -> 3"
   ]
  },
  {
   "cell_type": "markdown",
   "metadata": {},
   "source": [
    "Sendo uma outra tabela [2 5 7 11 13 17 25 3 35 39]\n",
    "\n",
    "1) Quantas comparações para cada um dos 10 elementos?\n",
    "\n",
    "P/ busca sequencial      P/ busca binária\n",
    "2 -> 1                   2 -> 3\n",
    "5 -> 2                   5 -> 2\n",
    "7 -> 3                   7 -> 3\n",
    "11 -> 4                  11 -> 4\n",
    "13 -> 5                  13 -> 1\n",
    "17 -> 6                  17 -> 3\n",
    "25 -> 7                  25 -> 4\n",
    "3 -> 8                   3 -> 2\n",
    "35 -> 9                  35 -> 3 \n",
    "39 ->  10                39 ->  4\n",
    "\n",
    "2) Quantas comparações para os números 12,28,1,75,8?\n",
    "\n",
    "P/ busca sequencial      P/ busca binária\n",
    "12 -> 10                  12 -> 5\n",
    "28 -> 10                  28 -> 4\n",
    "1 -> 10                   1 -> 3\n",
    "75 -> 10                  75 -> 4\n",
    "8 -> 10                   8 -> 4"
   ]
  },
  {
   "cell_type": "markdown",
   "metadata": {},
   "source": [
    "#### Exercício"
   ]
  },
  {
   "cell_type": "markdown",
   "metadata": {},
   "source": [
    "Outra forma de se pensar o algoritmo de busca binária, é usar o fato que a tabela tem um primeiro elemento\n",
    "(base) e um tamanho (n). A cada repetição compara-se o elemento procurado com o elemento médio da\n",
    "tabela (x == a[base + n // 2]?). Se encontrar termina. Se x > a[base + n // 2] o elemento\n",
    "procurado deve estar acima e a nova base fica sendo (base + n // 2 + 1), enquanto o novo valor de n\n",
    "fica em (n // 2)se n é impar ou (n // 2 -1) se n é par. Se x < a[base + n // 2] o\n",
    "elemento procurado deve estar abaixo, a base permanece a mesma e n fica em (n // 2). Inicialmente a\n",
    "base é zero e o algoritmo termina quando n fica zero, isto é, a tabela terminou e não encontramos o\n",
    "elemento procurado."
   ]
  },
  {
   "cell_type": "markdown",
   "metadata": {},
   "source": [
    "1) Escreva a função buscabinaria2(a, n), usando esse algoritmo."
   ]
  },
  {
   "cell_type": "code",
   "execution_count": 206,
   "metadata": {},
   "outputs": [
    {
     "data": {
      "text/plain": [
       "3"
      ]
     },
     "execution_count": 206,
     "metadata": {},
     "output_type": "execute_result"
    }
   ],
   "source": [
    "def buscabinaria(a, x):\n",
    "    n = len(a)\n",
    "    inicio = 0\n",
    "    final = n - 1\n",
    "    # Enquanto a tabela tem elementos continue procurando\n",
    "    while inicio <= final:\n",
    "        meio = (inicio + final) // 2\n",
    "        if a[meio] == x: return meio # encontrou o procurado\n",
    "        # verifica se continua a procura na parte superior ou inferior\n",
    "        if x < a[meio]: final = meio -1 # parte superior\n",
    "        else: inicio = meio + 1 # parte inferior\n",
    "    return -1\n",
    "\n",
    "def buscabinaria2(a, x):\n",
    "    n, base = len(a), 0\n",
    "    # enquanto existir elementos na lista, itera\n",
    "    while n > 0:\n",
    "        # se encontrou, é maior ou menor\n",
    "        if x == a[base+n//2]: return base+n//2\n",
    "        elif x > a[base+n//2]:\n",
    "            base = base + n//2+1\n",
    "            if n%2 == 0: n = n//2-1\n",
    "            else: n = n//2\n",
    "        else: n = n//2\n",
    "    return -1\n",
    "\n",
    "l = [1,2,3,4,6,8,11]\n",
    "buscabinaria2(l,4)"
   ]
  },
  {
   "cell_type": "markdown",
   "metadata": {},
   "source": [
    "### Busca binária recursiva"
   ]
  },
  {
   "cell_type": "code",
   "execution_count": 21,
   "metadata": {},
   "outputs": [],
   "source": [
    "def BBR(a, inicio, final, x):\n",
    "    if inicio > final: return -1\n",
    "    k = (inicio + final) // 2\n",
    "    if a[k] == x: return k\n",
    "    # procura na parte superior ou inferior da tabela\n",
    "    if a[k] > x: return BBR(a, inicio, k - 1, x)\n",
    "    return BBR(a, k + 1, final, x)\n",
    "\n",
    "# com chamada inicial BBR(v,0,n-1,x)"
   ]
  },
  {
   "cell_type": "markdown",
   "metadata": {},
   "source": [
    "#### Exercício"
   ]
  },
  {
   "cell_type": "code",
   "execution_count": 209,
   "metadata": {},
   "outputs": [
    {
     "data": {
      "text/plain": [
       "1"
      ]
     },
     "execution_count": 209,
     "metadata": {},
     "output_type": "execute_result"
    }
   ],
   "source": [
    "def BBR2(a, base, n, x):\n",
    "    if n <= 0: return -1\n",
    "    if x == a[base+n//2]: return base+n//2\n",
    "    # procura na parte superior ou inferior da tabela\n",
    "    if x > a[base+n//2]: \n",
    "        if n%2 == 0: return BBR2(a, base + n//2+1, n//2-1, x)\n",
    "        else: return BBR2(a, base + n//2+1, n//2, x)\n",
    "    else: return BBR2(a, base, n//2, x)\n",
    "    \n",
    "l = [1,2,3,4,6,8,11]\n",
    "BBR2(l,0,len(l),2)"
   ]
  },
  {
   "cell_type": "code",
   "execution_count": 62,
   "metadata": {},
   "outputs": [
    {
     "data": {
      "text/plain": [
       "6"
      ]
     },
     "execution_count": 62,
     "metadata": {},
     "output_type": "execute_result"
    }
   ],
   "source": [
    "# procura x em a[0] até a[n-1] e devolve:\n",
    "# 0 se x<= a[0]\n",
    "# n se x > a[n-1]\n",
    "# R se a[R-1] < x <= a[R]\n",
    "def binariaP(x, a):\n",
    "    n = len(a)\n",
    "    # se x está fora da tabela\n",
    "    if x <= a[0]: return 0\n",
    "    if x > a[n-1]: return n\n",
    "    # x pode estar dentro da tabela\n",
    "    L = 0\n",
    "    R = n-1\n",
    "    while R - L > 1:\n",
    "        M = (R + L) // 2\n",
    "        if x <= a[M]: R = M\n",
    "        else: L = M\n",
    "    return R\n",
    "\n",
    "l = [1,2,3,4,6,8,11]\n",
    "binariaP(10,l)"
   ]
  },
  {
   "cell_type": "markdown",
   "metadata": {},
   "source": [
    "### Busca binária - análise simplificada\n"
   ]
  },
  {
   "cell_type": "markdown",
   "metadata": {},
   "source": [
    "Comparação principal é a[meio] == x, pois representa a quantidade de repetições até o final do algoritmo."
   ]
  },
  {
   "cell_type": "markdown",
   "metadata": {},
   "source": [
    "#### Mínimo \n",
    "\n",
    "1 (encontra na primeira)\n",
    "\n",
    "#### Máximo\n",
    "\n",
    "Enquanto não se encontra o elemento procurado, as comparações continuam até o valor k tal que:\n",
    "\n",
    "$2^k$ ≤ N < $2^{k+1}$\n",
    "\n",
    "Ou k ≤ lg N < k + 1 (lg N é o log de N na base 2)\n",
    "\n",
    "Ou ainda (somando – k – lg N em todos os membros): - lg N ≤ - k < - lg N + 1\n",
    "\n",
    "Ou (multiplicando por -1) lg N – 1 < k ≤ lg N\n",
    "\n",
    "Como estamos interessados no valor (k + 1) temos: lg N < (k + 1) ≤ 1 + lg N\n",
    "\n",
    "Assim o número máximo de comparações está entre lg N e 1 + lg N\n",
    "\n",
    "Então ele é O(lgN) ou O(logN)\n",
    "\n",
    "#### Médio\n",
    "\n",
    "lg (N+1) - 1"
   ]
  },
  {
   "cell_type": "markdown",
   "metadata": {},
   "source": [
    "### Exercícios"
   ]
  },
  {
   "cell_type": "markdown",
   "metadata": {},
   "source": [
    "1) Tabela de 5 elementos com as seguintes probabilidades de busca.\n",
    "\n",
    "    elemento       x1  x2   x3   x4   x5\n",
    "    probabilidade 0.5 0.25 0.15 0.08 0.02\n",
    "    \n",
    "a) Calcule o número médio de comparações no algoritmo de busca seqüencial para a tabela com os elementos na seguinte ordem:\n",
    "\n",
    "    a1) x1, x2, x3, x4, x5\n",
    "    a2) x5, x4, x3, x2, x1\n",
    "    a3) x3, x2, x5, x1, x4   \n",
    "R:\n",
    "\n",
    "    1.p0 + 2.p1 + 3.p2 + 4.p3 + 5.p4 + 5.(1-1)\n",
    "    a1) 1,87\n",
    "    a2) 4,13\n",
    "    a3) 3,11    \n",
    "\n",
    "b) Idem supondo a seguinte distribuição, sendo que o elemento procurado pode não estar na tabela.\n",
    "\n",
    "    elemento      x1  x2  x3  x4  x5\n",
    "    probabilidade 0.4 0.2 0.1 0.1 0.05\n",
    "R:\n",
    "\n",
    "    1.p0 + 2.p1 + 3.p2 + 4.p3 + 5.p4 + 5.(1-0.85)\n",
    "    a1) 2,5 \n",
    "    a2) 4,1\n",
    "    a3) 3,5"
   ]
  },
  {
   "cell_type": "markdown",
   "metadata": {},
   "source": [
    "2) Considerando a modificação no algoritmo de busca binária."
   ]
  },
  {
   "cell_type": "code",
   "execution_count": 100,
   "metadata": {},
   "outputs": [
    {
     "data": {
      "text/plain": [
       "0"
      ]
     },
     "execution_count": 100,
     "metadata": {},
     "output_type": "execute_result"
    }
   ],
   "source": [
    "import random\n",
    "\n",
    "def entre(a,b):\n",
    "    return random.randrange(a,b+1)\n",
    "\n",
    "def buscabinaria(a, x):\n",
    "    n = len(a)\n",
    "    inicio = 0\n",
    "    final = n - 1\n",
    "    # Enquanto a tabela tem elementos continue procurando\n",
    "    while inicio <= final:\n",
    "        meio = entre(inicio, final)\n",
    "        if a[meio] == x: return meio # encontrou o procurado\n",
    "        # verifica se continua a procura na parte superior ou inferior\n",
    "        if x < a[meio]: final = meio -1 # parte superior\n",
    "        else: inicio = meio + 1 # parte inferior\n",
    "    # Se chegou aqui é porque esgotou as possibilidades e não encontrou\n",
    "    return -1\n",
    "\n",
    "l = [1,2,3,4,6,8,11]\n",
    "buscabinaria(l,4)"
   ]
  },
  {
   "cell_type": "markdown",
   "metadata": {},
   "source": [
    "A função entre(inicio,final) é uma função que devolve um número aleatório entre inicio e fim.\n",
    "\n",
    "a) Está correta? R: Sim, não é necessário ser exatamente no meio, esse é apenas a melhor escolha.\n",
    "\n",
    "b) Diga qual o número mínimo e o número máximo de vezes que a comparação (v[i] == x) é efetuada e em qual situação ocorre.\n",
    "\n",
    "    Mínimo = 1 (se a[meio] é o primeiro elemento comparado); \n",
    "    Máximo = n (se aleatoriamente fosse escolhido o meio de forma que virasse uma lista sequencial)\n",
    "\n",
    "c) O que acontece se a função devolver n/3?  R: Sei la"
   ]
  },
  {
   "cell_type": "markdown",
   "metadata": {},
   "source": [
    "3) Escreva um algoritmo de busca ternária, isto é, a cada passo calcular m1=n/2 e m2=2*n/3. A tabela então fica dividida em 3 partes (esquerda, meio e direita). Daí basta comparar com m1 e m2. Se não for igual o elemento deve estar em uma das 3 partes. A cada passo a tabela fica dividida por 3."
   ]
  },
  {
   "cell_type": "code",
   "execution_count": 5,
   "metadata": {},
   "outputs": [
    {
     "data": {
      "text/plain": [
       "7"
      ]
     },
     "execution_count": 5,
     "metadata": {},
     "output_type": "execute_result"
    }
   ],
   "source": [
    "def buscabinaria(a, x):\n",
    "    n = len(a)\n",
    "    inicio = 0\n",
    "    final = n - 1\n",
    "    # Enquanto a tabela tem elementos continue procurando\n",
    "    while inicio <= final:\n",
    "        meio = (inicio + final) // 2\n",
    "        if a[meio] == x: return meio # encontrou o procurado\n",
    "        # verifica se continua a procura na parte superior ou inferior\n",
    "        if x < a[meio]: final = meio - 1 # parte superior\n",
    "        else: inicio = meio + 1 # parte inferior\n",
    "    return -1\n",
    "\n",
    "def busca_ternaria(a, x):\n",
    "    n = len(a)\n",
    "    inicio = 0\n",
    "    final = n-1\n",
    "    while inicio <= final:\n",
    "        m1, m2 = (inicio+final)//2, (2*(final-inicio)//3)+inicio\n",
    "        if a[m1] == x: return m1\n",
    "        elif a[m2] == x: return m2\n",
    "        if x < a[m1]: final = m1 - 1\n",
    "        elif a[m1] < x < a[m2]: inicio, final = m1 + 1, m2 - 1\n",
    "        elif x > a[m2]: inicio = m2 + 1\n",
    "    return -1\n",
    "        \n",
    "l = [1,2,3,4,6,8,11,13]\n",
    "busca_ternaria(l,13)"
   ]
  }
 ],
 "metadata": {
  "kernelspec": {
   "display_name": "Python 3",
   "language": "python",
   "name": "python3"
  },
  "language_info": {
   "codemirror_mode": {
    "name": "ipython",
    "version": 3
   },
   "file_extension": ".py",
   "mimetype": "text/x-python",
   "name": "python",
   "nbconvert_exporter": "python",
   "pygments_lexer": "ipython3",
   "version": "3.7.3"
  },
  "toc": {
   "base_numbering": 1,
   "nav_menu": {},
   "number_sections": true,
   "sideBar": true,
   "skip_h1_title": false,
   "title_cell": "Table of Contents",
   "title_sidebar": "Contents",
   "toc_cell": false,
   "toc_position": {},
   "toc_section_display": true,
   "toc_window_display": false
  }
 },
 "nbformat": 4,
 "nbformat_minor": 2
}
