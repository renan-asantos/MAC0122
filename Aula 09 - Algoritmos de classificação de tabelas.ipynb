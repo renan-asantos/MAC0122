{
 "cells": [
  {
   "cell_type": "markdown",
   "metadata": {},
   "source": [
    "### 1. Classificação – método da seleção"
   ]
  },
  {
   "cell_type": "markdown",
   "metadata": {},
   "source": [
    "O algoritmo imediato para se ordenar uma tabela com n elementos é o seguinte:\n",
    "1. Determinar o mínimo a partir do primeiro e trocar com o primeiro\n",
    "2. Determinar o mínimo a partir do segundo e trocar com o segundo\n",
    "3. Determinar o mínimo a partir do terceiro e trocar com o terceiro\n",
    ". . . .\n",
    "\n",
    "(n-1) Determinar o mínimo a partir do (n-1)-ésimo e trocar com o (n-1)-ésimo"
   ]
  },
  {
   "cell_type": "code",
   "execution_count": 34,
   "metadata": {},
   "outputs": [
    {
     "name": "stdout",
     "output_type": "stream",
     "text": [
      "[1, 2, 3]\n",
      "[1, 2, 3]\n"
     ]
    }
   ],
   "source": [
    "def Selecao(a):\n",
    "    n = len(a)\n",
    "    # i = 0, 1, 2, ..., n - 2\n",
    "    for i in range(n-1):\n",
    "        # determina o índice do menor elemento a partir de i\n",
    "        imin = i\n",
    "        for j in range(i + 1, n):\n",
    "            if (a[imin] > a[j]): imin = j\n",
    "        # troca a posição do menor com a posição de i-ésimo\n",
    "        a[i], a[imin] = a[imin], a[i]\n",
    "        print(a)\n",
    "        \n",
    "l = [3,2,1]\n",
    "Selecao(l)"
   ]
  },
  {
   "cell_type": "code",
   "execution_count": 2,
   "metadata": {},
   "outputs": [
    {
     "name": "stdout",
     "output_type": "stream",
     "text": [
      "tabela original:\n",
      " [673, 772, 778, 360, 459, 432, 368, 890, 816, 772]\n",
      "\n",
      "tabela classificada:\n",
      " [360, 368, 432, 459, 673, 772, 772, 778, 816, 890]\n"
     ]
    }
   ],
   "source": [
    "from random import randrange\n",
    "def Selecao(a):\n",
    "    n = len(a)\n",
    "    # i = 0, 1, 2, ..., n - 2\n",
    "    for i in range(n - 1):\n",
    "        # determina o índice do menor elemento a partir de i\n",
    "        imin = i\n",
    "        for j in range(i + 1, n):\n",
    "            if a[imin] > a[j]: imin = j\n",
    "        # troca a posição do menor com a posição de i-ésimo\n",
    "        a[i], a[imin] = a[imin], a[i]\n",
    "    return a\n",
    "\n",
    "def geratab(n):\n",
    "    # gera tabela com n numeros randômicos entre 0 999\n",
    "    tab = []\n",
    "    for i in range(n):\n",
    "        tab.append(randrange(1000))\n",
    "    return tab\n",
    "\n",
    "# gera tabela com N números\n",
    "N = 10\n",
    "tabela = geratab(N)\n",
    "print(\"tabela original:\\n\", tabela)\n",
    "\n",
    "# classifica pelo método da seleção\n",
    "Selecao(tabela)\n",
    "print(\"\\ntabela classificada:\\n\", tabela)"
   ]
  },
  {
   "cell_type": "markdown",
   "metadata": {},
   "source": [
    "### 1.1 Análise"
   ]
  },
  {
   "cell_type": "markdown",
   "metadata": {},
   "source": [
    "Número de trocas: é sempre n–1.\n",
    "\n",
    "Número de comparações: é sempre (n-1)+(n-2)+...+2+1 = n(n-1)/2\n",
    "\n",
    "Tempo é proporcional a n(n-1)/2, então O(n^2)."
   ]
  },
  {
   "cell_type": "markdown",
   "metadata": {},
   "source": [
    "### 2. Classificação – Método Bubble (da bolha) "
   ]
  },
  {
   "cell_type": "markdown",
   "metadata": {},
   "source": [
    "Outro método para fazer a classificação é pegar cada um dos elementos a partir do segundo (a[1] até\n",
    "a[n-1]) e subi-lo até que encontre o seu lugar."
   ]
  },
  {
   "cell_type": "code",
   "execution_count": 3,
   "metadata": {},
   "outputs": [
    {
     "name": "stdout",
     "output_type": "stream",
     "text": [
      "tabela original:\n",
      " [32, 661, 679, 377, 840, 641, 912, 942, 922, 631]\n",
      "\n",
      "tabela classificada:\n",
      " [32, 377, 631, 641, 661, 679, 840, 912, 922, 942]\n"
     ]
    }
   ],
   "source": [
    "def Bolha(a):\n",
    "    n = len(a)\n",
    "    # i = 1, 2, ..., n - 1\n",
    "    for i in range(1, n):\n",
    "        # sobe com a[i] até encontrar o lugar adequado\n",
    "        j = i\n",
    "        while j > 0 and a[j] < a[j - 1]:\n",
    "            # troca com o seu vizinho\n",
    "            a[j], a[j - 1] = a[j - 1], a[j]\n",
    "            # continua subindo\n",
    "            j = j - 1\n",
    "            \n",
    "# gera tabela com N números\n",
    "N = 10\n",
    "tabela = geratab(N)\n",
    "print(\"tabela original:\\n\", tabela)\n",
    "\n",
    "# classifica pelo método da bolha\n",
    "Bolha(tabela)\n",
    "print(\"\\ntabela classificada:\\n\", tabela)"
   ]
  },
  {
   "cell_type": "markdown",
   "metadata": {},
   "source": [
    "### 2.1 Análise"
   ]
  },
  {
   "cell_type": "markdown",
   "metadata": {},
   "source": [
    "Número de trocas:\n",
    "\n",
    "Pior caso: Lista invertida, n.(n-1)/2 >> O(n^2)"
   ]
  },
  {
   "cell_type": "markdown",
   "metadata": {},
   "source": [
    "Inversões\n",
    "\n",
    "Seja P = a1 a2 ... an, uma permutação de 1 2 ... n.\n",
    "O par (i,j) é uma inversão quando i < j e ai > aj.\n",
    "Exemplo: 1 3 5 4 2 tem 4 inversões: (3,2) (5,4) (5,2) e (4,2)\n",
    "\n",
    "No método Bubble o número de trocas é igual ao número de inversões da sequência.\n",
    "\n",
    "É equivalente a calcular o número de inversões de uma permutação de 1 2 ... n.\n",
    "\n",
    "Número médio de trocas no Bubble: n.(n-1)/4\n"
   ]
  },
  {
   "cell_type": "markdown",
   "metadata": {},
   "source": [
    "### 3. Classificação – método da inserção"
   ]
  },
  {
   "cell_type": "markdown",
   "metadata": {},
   "source": [
    "Variação do Bubble\n",
    "\n",
    "A idéia é pegar cada um dos elementos a partir do segundo e abrir um espaço para ele (inserir),\n",
    "deslocando de uma posição para baixo, todos os maiores que estão acima."
   ]
  },
  {
   "cell_type": "code",
   "execution_count": null,
   "metadata": {},
   "outputs": [],
   "source": [
    "def insercao(a):\n",
    "    n = len(a)\n",
    "    # todos a partir do segundo elemento\n",
    "    for i in range(1, n):\n",
    "        x = a[i] # guarda a[i]\n",
    "        # desloca todos os necessários para\n",
    "        # liberar um lugar para a[i]\n",
    "        j = i - 1\n",
    "        while j >= 0 and a[j] > x:\n",
    "            a[j + 1] = a[j]\n",
    "            j = j - 1\n",
    "        # a posição j + 1 ficou livre para receber a[i]\n",
    "        a[j + 1] = x"
   ]
  },
  {
   "cell_type": "markdown",
   "metadata": {},
   "source": [
    "### 4. Classificação - método Shell"
   ]
  },
  {
   "cell_type": "markdown",
   "metadata": {},
   "source": [
    "A idéia é tentar eliminar inversões de maneira mais rápida.\n",
    "Repete-se então o bubble com uma sequência de passos: n/2, n/4, ... 1. A idéia é que numa só troca,\n",
    "várias inversões são eliminadas.\n",
    "\n",
    "Quando o passo é 1, temos o próprio bubble. Porém, neste momento a sequência já está com menos\n",
    "inversões, portanto teremos menos trocas.\n"
   ]
  },
  {
   "cell_type": "code",
   "execution_count": null,
   "metadata": {},
   "outputs": [],
   "source": [
    "def shell(a):\n",
    "    h = len(a) // 2\n",
    "    # repita até que h fique 1\n",
    "    while h > 0:\n",
    "        # subir a[i], i = h, h + 1, ..., n -1\n",
    "        for i in range(h, len(a)):\n",
    "            # subir a[i] até encontrar menor ou chegar em a[0]\n",
    "            j = i\n",
    "            while j >= h and a[j] < a[j - h]:\n",
    "                # troca a[j] e a[j - h]\n",
    "                a[j], a[j - h] = a[j - h], a[j]\n",
    "                j = j - h # continua subindo\n",
    "        # muda o passo\n",
    "        h = h // 2"
   ]
  },
  {
   "cell_type": "markdown",
   "metadata": {},
   "source": [
    "### 5. Classificação - método Merge"
   ]
  },
  {
   "cell_type": "markdown",
   "metadata": {},
   "source": [
    "Dados dois vetores a e b de n e m elementos já ordenados, construir\n",
    "outro vetor c de m+n elementos também ordenado com os elementos de a e b.\n",
    "\n",
    "Fazer intercalação(merge) dos elementos de a e b em c.\n",
    "\n",
    "Basta pegar o menor entre a[i] e b[j] e colocar em c[k]. A cada passo incrementar k e i ou j."
   ]
  },
  {
   "cell_type": "code",
   "execution_count": 30,
   "metadata": {},
   "outputs": [],
   "source": [
    "# Ordem O(n)\n",
    "\n",
    "def intercala(a, b, c):\n",
    "    # supor len(c) >= len(a) + len(b)\n",
    "    n, m = len(a), len(b)\n",
    "    i, j, k = 0, 0, 0\n",
    "    # Coloque em c[k] o menor entre a[i] e b[j]\n",
    "    while i < n and j < m:\n",
    "        if a[i] < b[j]:\n",
    "            c[k] = a[i]\n",
    "            i = i + 1\n",
    "        else:\n",
    "            c[k] = b[j]\n",
    "            j = j + 1\n",
    "        # avança k\n",
    "        k = k + 1\n",
    "    # Neste ponto, esgotou a lista a ou a lista b\n",
    "    # Basta então mover os itens restantes de a ou b\n",
    "    # De uma delas nada será movido\n",
    "    while i < n:\n",
    "        c[k] = a[i]\n",
    "        i, k = i + 1, k + 1\n",
    "    while j < m:\n",
    "        c[k] = b[j]\n",
    "        j, k = j + 1, k + 1"
   ]
  },
  {
   "cell_type": "markdown",
   "metadata": {},
   "source": [
    "Com a função intercala, podemos construir um algoritmo interessante de classificação. O algoritmo é\n",
    "recursivo e divide a sequência em duas metades, estas em outras duas metades, etc., até que cada\n",
    "sequência tenha 0 ou 1 elementos, caso em que nada é feito. Após isso, intercala as sequências\n",
    "vizinhas."
   ]
  },
  {
   "cell_type": "code",
   "execution_count": 31,
   "metadata": {},
   "outputs": [],
   "source": [
    "def merge_sort(lista):\n",
    "    if len(lista) > 1:\n",
    "        meio = len(lista) // 2\n",
    "        lista_esquerda = lista[:meio]\n",
    "        lista_direita = lista[meio:]\n",
    "        # classifica as listas esquerda e direita\n",
    "        merge_sort(lista_esquerda)\n",
    "        merge_sort(lista_direita)\n",
    "        # intercala as listas esquerda e direita\n",
    "        intercala(lista_esquerda, lista_direita, lista)\n",
    "\n",
    "# Ordem O(n.log(n))"
   ]
  },
  {
   "cell_type": "markdown",
   "metadata": {},
   "source": [
    "### 6. Classificação - método Quick"
   ]
  },
  {
   "cell_type": "markdown",
   "metadata": {},
   "source": [
    "Existem algoritmos que particionam uma sequência em duas, determinando um elemento pivô, tal que\n",
    "todos à esquerda são menores e todos à direita são maiores. Com isso usa-se a mesma técnica do\n",
    "Merge, isto é, aplica-se o algoritmo recursivamente na parte esquerda e na parte direita."
   ]
  },
  {
   "cell_type": "markdown",
   "metadata": {},
   "source": [
    "### 6.1 O algoritmo para particionar a sequência"
   ]
  },
  {
   "cell_type": "code",
   "execution_count": 37,
   "metadata": {},
   "outputs": [],
   "source": [
    "def particiona(lista, inicio, fim):\n",
    "    \n",
    "    \"\"\"Particiona mudando o pivo de lugar\"\"\"\n",
    "    \n",
    "    # Particiona a lista de lista[inicio] até lista[fim]\n",
    "    i, j = inicio, fim\n",
    "    # Direção - dir == 1 esquerda-direita e dir == -1 ao contrário\n",
    "    dir = 1\n",
    "    while i < j:\n",
    "        if lista[i] > lista[j]:\n",
    "            lista[i], lista[j] = lista[j], lista[i]\n",
    "            # muda a direção\n",
    "            dir = - dir\n",
    "        # incrementa i ou decrementa j\n",
    "        if dir == 1: i = i + 1\n",
    "        else: j = j - 1\n",
    "    # Devolve o índice do elemento pivô\n",
    "    return i\n",
    "\n",
    "def particiona(lista, inicio, fim):\n",
    "    \n",
    "    \"\"\"Particiona mudando os elementos de lugar\"\"\"\n",
    "    \n",
    "    i, j = inicio, fim\n",
    "    pivo = lista[fim]\n",
    "    while True:\n",
    "        # aumentando i\n",
    "        while i < j and lista[i] <= pivo: i = i + 1\n",
    "        if i < j: lista[i], lista[j] = pivo, lista[i]\n",
    "        else: break\n",
    "        # diminuindo j\n",
    "        while i < j and lista[j] >= pivo: j = j - 1\n",
    "        if i < j: lista[i], lista[j] = lista[j], pivo\n",
    "        else: break\n",
    "    return i"
   ]
  },
  {
   "cell_type": "markdown",
   "metadata": {},
   "source": [
    "### 6.2 Método Quick"
   ]
  },
  {
   "cell_type": "code",
   "execution_count": null,
   "metadata": {},
   "outputs": [],
   "source": [
    "# quick recursivo\n",
    "def Quick_Sort(lista, inicio, fim):\n",
    "    # Se a lista tem mais de um elemento, ela será\n",
    "    # particionada e as duas partições serão classificadas\n",
    "    # pelo mesmo método Quick Sort\n",
    "    if inicio < fim:\n",
    "        k = particiona(lista, inicio, fim)\n",
    "        print(\"pivo:\", lista[k])\n",
    "        Quick_Sort(lista, inicio, k - 1)\n",
    "        Quick_Sort(lista, k + 1, fim)\n",
    "        \n",
    "# quick não recursivo\n",
    "def Quick_Sort(lista):\n",
    "    # Cria a pilha de sub-listas e inicia com lista completa\n",
    "    Pilha = PilhaLista()\n",
    "    Pilha.push((0, len(lista) - 1))\n",
    "    # Repete até que a pilha de sub-listas esteja vazia\n",
    "    while not Pilha.is_empty():\n",
    "        inicio, fim = Pilha.pop()\n",
    "        # Só particiona se há mais de 1 elemento\n",
    "        if fim - inicio > 0:\n",
    "            k = particiona(lista, inicio, fim)\n",
    "            # Empilhe as sub-listas resultantes\n",
    "            Pilha.push((inicio, k - 1))\n",
    "            Pilha.push((k + 1, fim))"
   ]
  },
  {
   "cell_type": "markdown",
   "metadata": {},
   "source": [
    "Pior caso: O(n^2)\n",
    "\n",
    "Melhor caso O(n.log(n))\n",
    "\n",
    "Caso médio O(n.log(n))"
   ]
  },
  {
   "cell_type": "markdown",
   "metadata": {},
   "source": [
    "### 6.3 Merge e Quick"
   ]
  },
  {
   "cell_type": "code",
   "execution_count": null,
   "metadata": {},
   "outputs": [],
   "source": [
    "def Quick_Sort(lista):\n",
    "    # lista com zero ou 1 elementos já está classificada\n",
    "    if len(lista) <= 1:\n",
    "        return lista\n",
    "    pivot = lista[len(lista) // 2] # elemento do meio\n",
    "    # constrói as novas listas\n",
    "    left = [x for x in lista if x < pivot] # menores\n",
    "    middle = [x for x in lista if x == pivot] # iguais\n",
    "    right = [x for x in lista if x > pivot] # maiores\n",
    "    # retorna uma nova lista com as 3 partes, aplicando\n",
    "    # o Quick nas partes dos menores e dos maiores\n",
    "    return Quick_Sort(left) + middle + Quick_Sort(right)\n"
   ]
  },
  {
   "cell_type": "markdown",
   "metadata": {},
   "source": [
    "### 7. Classificação - Heap"
   ]
  },
  {
   "cell_type": "markdown",
   "metadata": {},
   "source": [
    "Árvore binária possui 0, 1 ou 2 filhos\n",
    "É uma árvore Heap se cada elemento é maior ou igual a seus filhos. E deve ser construída preenchendo totalmente cada nível da esquerda para a direita."
   ]
  },
  {
   "cell_type": "markdown",
   "metadata": {},
   "source": [
    "Cada nó i tem filhos 2i e 2i+1 e a[i] ≥ a[2i] e a[i] ≥ a[2i+1].\n",
    "\n",
    "As folhas estão a partir do elemento a[n/2+1] até a[n]."
   ]
  },
  {
   "cell_type": "code",
   "execution_count": null,
   "metadata": {},
   "outputs": [],
   "source": [
    "# versão recursiva\n",
    "# aplica o Heap em a[k] na lista de n elementos\n",
    "def Heap(a, k, n):\n",
    "    \n",
    "    \"\"\"Abaixo a função Heap(a, k, n) que arruma \n",
    "    todos os descendentes (filhos, netos, bisnetos, etc.) de a[k] até o final da lista. \"\"\"\n",
    "    \n",
    "    # compara o filho esquerdo\n",
    "    if 2*k <= n and a[k] < a[2*k]:\n",
    "        # troca com o pai e aplica Heap ao novo filho\n",
    "        a[k], a[2*k] = a[2*k], a[k]\n",
    "        Heap(a, 2*k, n)\n",
    "    # compara com o filho direito\n",
    "    if 2*k+1 <= n and a[k] < a[2*k+1]:\n",
    "        # troca com o pai e aplica Heap ao novo filho\n",
    "        a[k], a[2*k+1] = a[2*k+1], a[k]\n",
    "        Heap(a, 2*k+1, n)\n",
    "\n",
    "# versão não recursiva\n",
    "# aplica o Heap em a[k] na lista de n elementos\n",
    "def Heap(a, k, n):\n",
    "    \n",
    "    \"\"\"Abaixo a função Heap(a, k, n) que arruma\n",
    "    todos os descendentes (filhos, netos, bisnetos, etc.) de a[k] até o final da lista. \"\"\"\n",
    "    \n",
    "    # verifica a situação Heap com os filhos, netos, etc.\n",
    "    while 2 * k <= n:\n",
    "        j = 2 * k\n",
    "        # decide o maior entre a[j] e a[j+1] (filhos)\n",
    "        if j < n and a[j] < a[j + 1]: j += 1\n",
    "        # neste ponto a[j] é o maior entre os 2 filhos\n",
    "        # verifica se deve trocar com o pai\n",
    "        if a[j] > a[k]:\n",
    "            a[j], a[k] = a[k], a[j]\n",
    "        else: break; # retorna pois nada mais a fazer\n",
    "        # se trocou pode ser que a troca introduziu algo não Heap\n",
    "        # verifica portanto o filho que foi trocado\n",
    "        k = j\n"
   ]
  },
  {
   "cell_type": "code",
   "execution_count": null,
   "metadata": {},
   "outputs": [],
   "source": [
    "# O método Heapsort - Neste método, a lista tem n + 1 elementos\n",
    "# a[1], a[2], ..., a[n]. O elemento a[0] é ignorado\n",
    "def Heapsort(a):\n",
    "    n = len(a) - 1\n",
    "    # aplica o Heap aos elementos acima da metade\n",
    "    for k in range(n // 2, 0, -1):\n",
    "        Heap(a, k, n)\n",
    "    # a[1] é o maior. Troca com o último que já fica em seu lugar\n",
    "    # aplica Heap em a[1] numa tabela com 1 elemento a menos\n",
    "    while n > 1:\n",
    "        a[1], a[n] = a[n], a[1]\n",
    "        Heap(a, 1, n - 1)\n",
    "        n -= 1"
   ]
  },
  {
   "cell_type": "markdown",
   "metadata": {},
   "source": [
    "O método Heap é O(n.log(n))"
   ]
  },
  {
   "cell_type": "markdown",
   "metadata": {},
   "source": [
    "### Exercícios"
   ]
  },
  {
   "cell_type": "markdown",
   "metadata": {},
   "source": [
    "1. Classifique a sequência abaixo pelos métodos Merge, Quick, Heapsort e Bubble. Em cada um dos casos diga qual o número de comparações e de trocas feitas para a classificação.\n",
    "\n",
    "      12 23 5 9 0 4 1 12 21 2 5 14"
   ]
  },
  {
   "cell_type": "code",
   "execution_count": 9,
   "metadata": {},
   "outputs": [
    {
     "ename": "TypeError",
     "evalue": "list indices must be integers or slices, not NoneType",
     "output_type": "error",
     "traceback": [
      "\u001b[1;31m---------------------------------------------------------------------------\u001b[0m",
      "\u001b[1;31mTypeError\u001b[0m                                 Traceback (most recent call last)",
      "\u001b[1;32m<ipython-input-9-938937e573ba>\u001b[0m in \u001b[0;36m<module>\u001b[1;34m\u001b[0m\n\u001b[0;32m     65\u001b[0m         \u001b[0mQuick\u001b[0m\u001b[1;33m(\u001b[0m\u001b[0mlista\u001b[0m\u001b[1;33m,\u001b[0m\u001b[0mk\u001b[0m\u001b[1;33m+\u001b[0m\u001b[1;36m1\u001b[0m\u001b[1;33m,\u001b[0m\u001b[0mfim\u001b[0m\u001b[1;33m)\u001b[0m\u001b[1;33m\u001b[0m\u001b[1;33m\u001b[0m\u001b[0m\n\u001b[0;32m     66\u001b[0m \u001b[1;33m\u001b[0m\u001b[0m\n\u001b[1;32m---> 67\u001b[1;33m \u001b[0mQuick\u001b[0m\u001b[1;33m(\u001b[0m\u001b[0ml1\u001b[0m\u001b[1;33m,\u001b[0m\u001b[1;36m0\u001b[0m\u001b[1;33m,\u001b[0m\u001b[1;36m11\u001b[0m\u001b[1;33m)\u001b[0m\u001b[1;33m\u001b[0m\u001b[1;33m\u001b[0m\u001b[0m\n\u001b[0m",
      "\u001b[1;32m<ipython-input-9-938937e573ba>\u001b[0m in \u001b[0;36mQuick\u001b[1;34m(lista, inicio, fim)\u001b[0m\n\u001b[0;32m     61\u001b[0m     \u001b[1;32mif\u001b[0m \u001b[0minicio\u001b[0m \u001b[1;33m<\u001b[0m \u001b[0mfim\u001b[0m\u001b[1;33m:\u001b[0m\u001b[1;33m\u001b[0m\u001b[1;33m\u001b[0m\u001b[0m\n\u001b[0;32m     62\u001b[0m         \u001b[0mk\u001b[0m \u001b[1;33m=\u001b[0m \u001b[0mparticiona\u001b[0m\u001b[1;33m(\u001b[0m\u001b[0mlista\u001b[0m\u001b[1;33m,\u001b[0m\u001b[0minicio\u001b[0m\u001b[1;33m,\u001b[0m\u001b[0mfim\u001b[0m\u001b[1;33m)\u001b[0m\u001b[1;33m\u001b[0m\u001b[1;33m\u001b[0m\u001b[0m\n\u001b[1;32m---> 63\u001b[1;33m         \u001b[0mprint\u001b[0m\u001b[1;33m(\u001b[0m\u001b[1;34m'pivo:'\u001b[0m\u001b[1;33m,\u001b[0m\u001b[0mlista\u001b[0m\u001b[1;33m[\u001b[0m\u001b[0mk\u001b[0m\u001b[1;33m]\u001b[0m\u001b[1;33m)\u001b[0m\u001b[1;33m\u001b[0m\u001b[1;33m\u001b[0m\u001b[0m\n\u001b[0m\u001b[0;32m     64\u001b[0m         \u001b[0mQuick\u001b[0m\u001b[1;33m(\u001b[0m\u001b[0mlista\u001b[0m\u001b[1;33m,\u001b[0m\u001b[0minicio\u001b[0m\u001b[1;33m,\u001b[0m\u001b[0mk\u001b[0m\u001b[1;33m-\u001b[0m\u001b[1;36m1\u001b[0m\u001b[1;33m)\u001b[0m\u001b[1;33m\u001b[0m\u001b[1;33m\u001b[0m\u001b[0m\n\u001b[0;32m     65\u001b[0m         \u001b[0mQuick\u001b[0m\u001b[1;33m(\u001b[0m\u001b[0mlista\u001b[0m\u001b[1;33m,\u001b[0m\u001b[0mk\u001b[0m\u001b[1;33m+\u001b[0m\u001b[1;36m1\u001b[0m\u001b[1;33m,\u001b[0m\u001b[0mfim\u001b[0m\u001b[1;33m)\u001b[0m\u001b[1;33m\u001b[0m\u001b[1;33m\u001b[0m\u001b[0m\n",
      "\u001b[1;31mTypeError\u001b[0m: list indices must be integers or slices, not NoneType"
     ]
    }
   ],
   "source": [
    "l1 = [12,23,5,9,0,4,1,12,21,2,5,14]\n",
    "\n",
    "def Bubble(a):\n",
    "    n = len(a)\n",
    "    count = 0\n",
    "    count2 = 0\n",
    "    for i in range(1,n):\n",
    "        j = i\n",
    "        count2+=1\n",
    "        while j > 0 and a[j] < a[j-1]:\n",
    "            a[j],a[j-1] = a[j-1],a[j]\n",
    "            count += 1\n",
    "            j-=1\n",
    "    return count,count2\n",
    "\n",
    "def intercala(a, b, c):\n",
    "    # supor len(c) >= len(a) + len(b)\n",
    "    n,m = len(a),len(b)\n",
    "    i,j,k = 0,0,0\n",
    "    while i < n and j < m:\n",
    "        if a[i] < b[j]:\n",
    "            c[k] = a[i]\n",
    "            i = i + 1\n",
    "        else:\n",
    "            c[k] = b[j]\n",
    "            j = j + 1\n",
    "        k = k + 1\n",
    "    while i < n:\n",
    "        c[k] = a[i]\n",
    "        i, k = i + 1, k + 1\n",
    "    while j < m:\n",
    "        c[k] = b[j]\n",
    "        j, k = j + 1, k + 1\n",
    "\n",
    "def Merge(lista):\n",
    "    if len(lista) > 1:\n",
    "        meio = len(lista)//2\n",
    "        lista_esq = lista[:meio]\n",
    "        lista_dir = lista[meio:]\n",
    "        Merge(lista_esq)\n",
    "        Merge(lista_dir)\n",
    "        intercala(lista_esq,lista_dir,lista)\n",
    "                \n",
    "# T(n) = 2^k.T(n/2^k)+ k.c.n\n",
    "# considerando n = 2^k entao k = lg(n)\n",
    "# T(n) = n.T(1) + lg(n).c.n = n.(1 + c.lg(n))\n",
    "# O(n.log(n))\n",
    "\n",
    "def particiona(lista, inicio, fim):\n",
    "    i,j = inicio, fim\n",
    "    pivo = lista[fim]\n",
    "    while True:\n",
    "        while i < j and lista[i] <= pivo: i+=1\n",
    "        if i < j: lista[i], lista[j] = pivo, lista[i]\n",
    "        else: break\n",
    "        while i < j and lista[j] >= pivo: j-=1\n",
    "        if i < j: lista[i], lista[j] = lista[j], pivo\n",
    "        else: break\n",
    "    \n",
    "def Quick(lista,inicio,fim):\n",
    "    if inicio < fim:\n",
    "        k = particiona(lista,inicio,fim)\n",
    "        print('pivo:',lista[k])\n",
    "        Quick(lista,inicio,k-1)\n",
    "        Quick(lista,k+1,fim)\n",
    "\n",
    "Quick(l1,0,11)\n",
    "print(l1)"
   ]
  },
  {
   "cell_type": "markdown",
   "metadata": {},
   "source": [
    "2. Encontre permutações de (1, 2, 3, 4, 5) que ocasionem:\n",
    "\n",
    "a. Número de trocas máximo no Quick.\n",
    "\n",
    "b. Número de trocas máximo no Bubble."
   ]
  }
 ],
 "metadata": {
  "kernelspec": {
   "display_name": "Python 3",
   "language": "python",
   "name": "python3"
  },
  "language_info": {
   "codemirror_mode": {
    "name": "ipython",
    "version": 3
   },
   "file_extension": ".py",
   "mimetype": "text/x-python",
   "name": "python",
   "nbconvert_exporter": "python",
   "pygments_lexer": "ipython3",
   "version": "3.7.3"
  },
  "toc": {
   "base_numbering": 1,
   "nav_menu": {},
   "number_sections": true,
   "sideBar": true,
   "skip_h1_title": false,
   "title_cell": "Table of Contents",
   "title_sidebar": "Contents",
   "toc_cell": false,
   "toc_position": {},
   "toc_section_display": true,
   "toc_window_display": false
  }
 },
 "nbformat": 4,
 "nbformat_minor": 2
}
