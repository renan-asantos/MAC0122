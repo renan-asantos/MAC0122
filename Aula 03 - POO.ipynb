{
 "cells": [
  {
   "cell_type": "markdown",
   "metadata": {},
   "source": [
    "## Aula"
   ]
  },
  {
   "cell_type": "markdown",
   "metadata": {},
   "source": [
    "O elemento principal da POO são os objetos. Dizemos que um objeto é uma instância de uma classe.\n",
    "\n",
    "Uma Classe é constituída por Atributos ou variáveis (data members) e Métodos ou funções (function members).\n",
    "\n",
    "A Classe é o modelo. Um objeto é um elemento deste modelo."
   ]
  },
  {
   "cell_type": "markdown",
   "metadata": {},
   "source": [
    "O nome self refere-se ao particular objeto sendo criado. Note que o primeiro parâmetro é sempre self na definição. \n",
    "No uso ou na chamada do método esse primeiro parâmetro não existe"
   ]
  },
  {
   "cell_type": "code",
   "execution_count": 4,
   "metadata": {},
   "outputs": [
    {
     "name": "stdout",
     "output_type": "stream",
     "text": [
      "Oferta do dia: Camisa Social\n",
      "Oferta da semana: Calça Jeans\n",
      "Atenção - baixou o preço\n",
      "Pode fazer a venda - valor total =  9812.0\n"
     ]
    }
   ],
   "source": [
    "class Produto:\n",
    "\n",
    "    '''Define a classe Produto.'''\n",
    "    \n",
    "    # Construtor da classe Produto\n",
    "    def __init__(self, nome, codigo, preco, quantidade):\n",
    "        '''Cria uma instância de Produto.'''\n",
    "        self._nome = nome\n",
    "        self._codigo = codigo\n",
    "        self._preco = preco\n",
    "        self._quantidade = quantidade\n",
    "\n",
    "    # Retorna com o nome do produto\n",
    "    def obtem_nome(self):\n",
    "        return self._nome\n",
    "\n",
    "    # Retorna com o código do produto\n",
    "    def obtem_codigo(self):\n",
    "        return self._codigo\n",
    "\n",
    "    # Retorna com o preço corrente do produto\n",
    "    def obtem_preco(self):\n",
    "        return self._preco\n",
    "\n",
    "    # Devolve True se novo preço maior que o anterior\n",
    "    def altera_preco(self, novo_preco):\n",
    "        pp = self._preco\n",
    "        self._preco = novo_preco\n",
    "        if novo_preco > pp: return True\n",
    "        return False\n",
    "\n",
    "    # Devolve False se a quantidade de produtos requerida não está disponível\n",
    "    def altera_quantidade(self, novo_pedido):\n",
    "        if novo_pedido > self._quantidade: return False\n",
    "        self._quantidade -= novo_pedido\n",
    "        return True\n",
    "\n",
    "# testes da classe\n",
    "if __name__ == \"__main__\":\n",
    "    p1 = Produto(\"Camisa Social\", 123456, 45.56, 1000)\n",
    "    p2 = Produto(\"Calça Jeans\", 423564, 98.12, 500)\n",
    "\n",
    "    print(\"Oferta do dia:\", p1.obtem_nome())\n",
    "    print(\"Oferta da semana:\", p2.obtem_nome())\n",
    "\n",
    "    # altera o preço\n",
    "    if p1.altera_preco(40.00): print(\"Preço alterado hoje\")\n",
    "    else: print(\"Atenção - baixou o preço\")\n",
    "\n",
    "    # verifica se pode fazer uma venda\n",
    "    v = 100\n",
    "    if p2.altera_quantidade(v):\n",
    "        print(\"Pode fazer a venda - valor total = \", p2.obtem_preco() * v)\n",
    "    else: \n",
    "        print(\"Não tem produto suficiente para esta venda\")"
   ]
  },
  {
   "cell_type": "markdown",
   "metadata": {},
   "source": [
    "#### Uso e declaração dos métodos\n",
    "Declaração:\n",
    "def altera_preco(self, novo_preco):\n",
    "\n",
    "Uso:\n",
    "if p1.altera_preco(40.00):\n"
   ]
  },
  {
   "cell_type": "code",
   "execution_count": null,
   "metadata": {},
   "outputs": [],
   "source": [
    "class Duplas:\n",
    "\n",
    "    '''Define a classe Duplas.'''\n",
    "    \n",
    "    # Construtor da classe\n",
    "    def __init__(self, p1 = 0, p2 = 0):\n",
    "        self.primeiro = p1\n",
    "        self.segundo = p2\n",
    "        \n",
    "    # Retorna no primeiro parâmetro a soma de dois elementos da classe\n",
    "    def SomaDuplas(self, d1, d2):\n",
    "        self.primeiro = d1.primeiro + d2.primeiro\n",
    "        self.segundo = d1.segundo + d2.segundo\n",
    "    \n",
    "    # Mostre uma dupla no formato /a b/\n",
    "    def Mostre(self):\n",
    "        print(\"/\", self.primeiro, self.segundo, \"/\")\n",
    "        \n",
    "# Exemplos de uso da classe\n",
    "\n",
    "x = Duplas(3,4)\n",
    "x.Mostre()\n",
    "\n",
    "y = Duplas(2)\n",
    "y.Mostre()\n",
    "\n",
    "z = Duplas()\n",
    "z.Mostre()\n",
    "\n",
    "# z = x + y\n",
    "z.SomaDuplas(x, y)\n",
    "z.Mostre()\n",
    "\n",
    "# z = /5 8/ + /1 1/\n",
    "z.SomaDuplas(Duplas(5, 8), Duplas(1, 1))\n",
    "z.Mostre()"
   ]
  },
  {
   "cell_type": "markdown",
   "metadata": {},
   "source": [
    "Abaixo algumas variações. A SomaDuplas() retorna elemento Duplas e o parâmetro de Mostre() não é self."
   ]
  },
  {
   "cell_type": "code",
   "execution_count": null,
   "metadata": {},
   "outputs": [],
   "source": [
    "class Duplas:\n",
    "\n",
    "    '''Define a classe Duplas.'''\n",
    "\n",
    "    # Construtor da classe\n",
    "    def __init__(self, p1 = 0, p2 = 0):\n",
    "        '''Construtor da classe.'''\n",
    "        self.primeiro = p1\n",
    "        self.segundo = p2\n",
    "    \n",
    "    # Retorna a soma de dois elementos da classe\n",
    "    # Neste caso, nem precisaria do parâmetro self, já que nem mexemos nele\n",
    "    def SomaDuplas(self, d1, d2):\n",
    "        pri = d1.primeiro + d2.primeiro\n",
    "        seg = d1.segundo + d2.segundo\n",
    "        return Duplas(pri, seg)\n",
    "    \n",
    "    # Mostre uma dupla no formato / a b /\n",
    "    #Unica diferença é que aqui o self pode ser qq coisa\n",
    "    def Mostre(param):\n",
    "        print(\"/\", param.primeiro, param.segundo, \"/\")\n",
    "\n",
    "# Exemplos de uso da classe\n",
    "\n",
    "# /3 4/\n",
    "x = Duplas(3, 4)\n",
    "x.Mostre() # x é o primeiro parâmetro de Mostre\n",
    "\n",
    "# /2 0/\n",
    "y = Duplas(2)\n",
    "y.Mostre() # idem y\n",
    "\n",
    "# /0 0/\n",
    "z = Duplas()\n",
    "z.Mostre() # idem z\n",
    "\n",
    "# x + y - mostrado o resultado do return em SomaDuplas\n",
    "Duplas().SomaDuplas(x, y).Mostre()\n",
    "\n",
    "# /5 8/ + /1 1/ - note que z não é alterado. Já que a função SomaDuplas nem mexe no 1 parametro\n",
    "z.SomaDuplas(Duplas(5, 8), Duplas(1, 1))\n",
    "z.Mostre()\n",
    "\n",
    "# /5 8/ + /1 1/ - agora sim, z é alterado\n",
    "z = Duplas().SomaDuplas(Duplas(5, 8), Duplas(1, 1))\n",
    "z.Mostre()"
   ]
  },
  {
   "cell_type": "markdown",
   "metadata": {},
   "source": [
    "No exemplo abaixo a função SomaDuplas() altera também os dois outros parâmetros."
   ]
  },
  {
   "cell_type": "code",
   "execution_count": null,
   "metadata": {},
   "outputs": [],
   "source": [
    "class Duplas:\n",
    "\n",
    "    '''Define a classe Duplas.'''\n",
    "    # Construtor da classe\n",
    "    def __init__(self, p1 = 0, p2 = 0):\n",
    "        '''Construtor da classe.'''\n",
    "        self.primeiro = p1\n",
    "        self.segundo = p2\n",
    "    # Retorna no primeiro parâmetro a soma de dois elementos da classe\n",
    "    def SomaDuplas(self, d1, d2):\n",
    "        x = d1.primeiro + d2.primeiro\n",
    "        y = d1.segundo + d2.segundo\n",
    "        self.primeiro = x\n",
    "        self.segundo = y\n",
    "        # Outras atribuições - só como exemplo\n",
    "        d1.primeiro = d2.primeiro = -1\n",
    "        d1.segundo = d2.segundo = -1\n",
    "    # Mostre uma dupla no formato / a b /\n",
    "    def Mostre(self):\n",
    "        print(\"/\", self.primeiro, self.segundo, \"/\")\n",
    "\n",
    "# Exemplos de uso da classe\n",
    "# /3 4/\n",
    "x = Duplas(3, 4)\n",
    "x.Mostre()\n",
    "# /2 0/\n",
    "y = Duplas(2)\n",
    "y.Mostre()\n",
    "# /0 0/\n",
    "z = Duplas()\n",
    "z.Mostre()"
   ]
  },
  {
   "cell_type": "markdown",
   "metadata": {},
   "source": [
    "Método construtor da classe __ init __"
   ]
  },
  {
   "cell_type": "code",
   "execution_count": null,
   "metadata": {},
   "outputs": [],
   "source": [
    "class com_init:\n",
    "    def __init__(outro, valor):\n",
    "        outro.val = valor\n",
    "    def f1(a, b, self):\n",
    "        print(\"entrou em f1:\", a.val, b.val, self.val)\n",
    "        \n",
    "# testes da classe\n",
    "x = com_init(-5)\n",
    "y = com_init(-4)\n",
    "z = com_init(-3)\n",
    "x.f1(y, z)\n",
    "\n",
    "class sem_init:\n",
    "    def f1(x, y):\n",
    "        print(\"entrou em f1:\", x, y)\n",
    "    def f2(a, self, b):\n",
    "        print(\"entrou em f2:\", a, self, b)\n",
    "\n",
    "# testes da classe\n",
    "sem_init.f1(5,4)\n",
    "sem_init.f2(5, 4, 3)"
   ]
  },
  {
   "cell_type": "code",
   "execution_count": 3,
   "metadata": {},
   "outputs": [
    {
     "name": "stdout",
     "output_type": "stream",
     "text": [
      "/3 4/\n",
      "/2 0/\n",
      "/0 0/\n",
      "/5 4/\n",
      "/10 8/\n",
      "/9 -4/\n",
      "/11 0/\n"
     ]
    }
   ],
   "source": [
    "class Duplas:\n",
    "    \n",
    "    '''Define a classe Duplas.'''\n",
    "    \n",
    "    # Construtor da classe\n",
    "    def __init__(self, p1 = 0, p2 = 0):\n",
    "        '''Construtor da classe.'''\n",
    "        self.primeiro = p1\n",
    "        self.segundo = p2\n",
    "    \n",
    "    # Retorna a soma de dois elementos da classe\n",
    "    def __add__(d1, d2):\n",
    "        pri = d1.primeiro + d2.primeiro\n",
    "        seg = d1.segundo + d2.segundo\n",
    "        return Duplas(pri, seg)\n",
    "    \n",
    "    # Transforma uma Dupla em string para imprimir no formato / a b /\n",
    "    def __str__(d):\n",
    "        return \"/\" + str(d.primeiro) + \" \" + str(d.segundo) + \"/\"\n",
    "\n",
    "# Exemplos de uso da classe\n",
    "\n",
    "# /3 4/\n",
    "x = Duplas(3, 4)\n",
    "print(x)\n",
    "\n",
    "# /2 0/\n",
    "y = Duplas(2)\n",
    "print(y)\n",
    "\n",
    "# /0 0/\n",
    "z = Duplas()\n",
    "print(z)\n",
    "\n",
    "# atribuição de soma a uma dupla\n",
    "z = x + y\n",
    "print(z)\n",
    "\n",
    "# qualquer expressão contendo só soma\n",
    "z = x + x + y + y\n",
    "print(z)\n",
    "\n",
    "# inclusive com constantes tipo dupla\n",
    "z = x + Duplas(-1, -3) + Duplas(5, -5) + y\n",
    "print(z)\n",
    "\n",
    "# imprimindo direto o resultado\n",
    "print(z + y + x + Duplas(-3))"
   ]
  },
  {
   "cell_type": "markdown",
   "metadata": {},
   "source": [
    "#### P3.1) Expandir a classe Duplas com as operações de subtração, multiplicação e divisão. Os métodos especiais que realizam isso são __sub__(), __mult__() e __div__()."
   ]
  },
  {
   "cell_type": "code",
   "execution_count": 2,
   "metadata": {},
   "outputs": [
    {
     "name": "stdout",
     "output_type": "stream",
     "text": [
      "/1.5 4.0/\n"
     ]
    }
   ],
   "source": [
    "class Duplas:\n",
    "    \n",
    "    '''Define a classe Duplas.'''\n",
    "    \n",
    "    # Construtor da classe\n",
    "    def __init__(self, p1 = 0, p2 = 0):\n",
    "        '''Construtor da classe.'''\n",
    "        self.primeiro = p1\n",
    "        self.segundo = p2\n",
    "    \n",
    "    # Retorna a soma de dois elementos da classe\n",
    "    def __add__(d1, d2):\n",
    "        pri = d1.primeiro + d2.primeiro\n",
    "        seg = d1.segundo + d2.segundo\n",
    "        return Duplas(pri, seg)\n",
    "    \n",
    "    # Transforma uma Dupla em string para imprimir no formato / a b /\n",
    "    def __str__(d):\n",
    "        return \"/\" + str(d.primeiro) + \" \" + str(d.segundo) + \"/\"\n",
    "    \n",
    "    def __sub__(d1, d2):\n",
    "        pri = d1.primeiro - d2.primeiro\n",
    "        seg = d1.segundo - d2.segundo\n",
    "        return Duplas(pri, seg)\n",
    "    \n",
    "    def __mul__(d1, d2):\n",
    "        pri = d1.primeiro * d2.primeiro\n",
    "        seg = d1.segundo * d2.segundo\n",
    "        return Duplas(pri, seg)\n",
    "    \n",
    "    def __truediv__(d1, d2):\n",
    "        pri = d1.primeiro/d2.primeiro\n",
    "        seg = d1.segundo/d2.segundo\n",
    "        return Duplas(pri, seg)\n",
    "    \n",
    "x = Duplas(3, 4)\n",
    "y = Duplas(2,1)\n",
    "print(x/y)"
   ]
  },
  {
   "cell_type": "code",
   "execution_count": 12,
   "metadata": {},
   "outputs": [
    {
     "name": "stdout",
     "output_type": "stream",
     "text": [
      "#3\n",
      "#5\n",
      "#5\n",
      "#5\n"
     ]
    }
   ],
   "source": [
    "class outro_int:\n",
    "    \n",
    "    ''' redefine soma de int. '''\n",
    "    \n",
    "    def __init__(self, valor):\n",
    "        self.val = valor\n",
    "    def __add__(b1, b2):\n",
    "        if b1.val > b2.val: return b1\n",
    "        return b2\n",
    "    def __str__(b):\n",
    "        return '#' + str(b.val)\n",
    "\n",
    "# testes da classe\n",
    "x = outro_int(3)\n",
    "y = outro_int(5)\n",
    "print(x)\n",
    "print(y)\n",
    "z = x + y\n",
    "print(z)\n",
    "print(x + y)"
   ]
  },
  {
   "cell_type": "markdown",
   "metadata": {},
   "source": [
    "#### P3.2) Refazer classe outro_int acima com as operações de soma(o maior em módulo), subtração (o menor em módulo), multiplicação (a soma dos módulos) e divisão (módulo da subtração). Os métodos especiais que realizam isso são __add__(), __sub__(), __mult__() e __div__().\n"
   ]
  },
  {
   "cell_type": "code",
   "execution_count": 21,
   "metadata": {},
   "outputs": [
    {
     "name": "stdout",
     "output_type": "stream",
     "text": [
      "2\n"
     ]
    }
   ],
   "source": [
    "class outro_int:\n",
    "    \n",
    "    ''' redefine soma de int. '''\n",
    "    \n",
    "    def __init__(self, valor):\n",
    "        self.val = valor\n",
    "    def __add__(b1, b2):\n",
    "        if abs(b1.val) > abs(b2.val): return b1\n",
    "        return b2\n",
    "    def __sub__(b1,b2):\n",
    "        if abs(b1.val) < abs(b2.val): return b1\n",
    "        return b2\n",
    "    def __mul__(b1,b2):\n",
    "        result = abs(b1.val) + abs(b2.val)\n",
    "        return result\n",
    "    def __truediv__(b1,b2):\n",
    "        result = b1.val - b2.val\n",
    "        return abs(result)\n",
    "    def __str__(b):\n",
    "        return '#' + str(b.val)\n",
    "\n",
    "x = outro_int(3)\n",
    "y = outro_int(5)\n",
    "print(x/y)"
   ]
  },
  {
   "cell_type": "markdown",
   "metadata": {},
   "source": [
    "Exemplo sobrecarga de operadores - Vetores multidimensionais"
   ]
  },
  {
   "cell_type": "code",
   "execution_count": 26,
   "metadata": {},
   "outputs": [
    {
     "name": "stdout",
     "output_type": "stream",
     "text": [
      "soma diferente\n",
      "Não é zero\n",
      "[2, 0, 3]\n"
     ]
    }
   ],
   "source": [
    "# Exemplo baseado em [1]\n",
    "class Vector:\n",
    "    \n",
    "    '''Vetor multidimensional.'''\n",
    "    def __init__ (self, d):  \n",
    "        '''Cria vetor de dimensão d com zeros.'''\n",
    "        self._coords = [0] * d\n",
    "        \n",
    "    def __len__ (self):\n",
    "        '''Retorna a dimensão do vetor.'''\n",
    "        return len(self._coords)\n",
    "    \n",
    "    def __getitem__ (self, j):\n",
    "        '''Retorna a j-ésima coordenada.'''\n",
    "        return self._coords[j]\n",
    "    \n",
    "    def __setitem__ (self, j, val):\n",
    "        '''Define a j-ésima coordenada do vetor.'''\n",
    "        self._coords[j] = val\n",
    "        \n",
    "    def __add__ (self, other):\n",
    "        '''Retorna a soma de 2 vetores.'''\n",
    "        if len(self) != len(other): # usa a função len desta classe\n",
    "            raise ValueError(\"dimensões devem ser a mesma\")\n",
    "        result = Vector(len(self))\n",
    "        for j in range(len(self)):\n",
    "            result[j] = self[j] + other[j]\n",
    "        return result\n",
    "    \n",
    "    def __eq__ (self, other):\n",
    "        '''Retorna True se vetores iguais.'''\n",
    "        return self._coords == other._coords\n",
    "    \n",
    "    def __ne__ (self, other):\n",
    "        '''Retorna True se vetores são diferentes.'''\n",
    "        return not self == other # usa a definição de eq\n",
    "    \n",
    "    def imprime (self):\n",
    "        '''Imprime o vetor.'''\n",
    "        print(self._coords)\n",
    "# testes\n",
    "v1 = Vector(3)\n",
    "v2 = Vector(3)\n",
    "v1[0] = 2 # setitem\n",
    "v2[2] = 3 # setitem\n",
    "v3 = v1 + v2 # add\n",
    "if v1 == v3 or v2 == v3: # eq\n",
    "    print(\"soma igual a um deles\")\n",
    "else:\n",
    "    print(\"soma diferente\")\n",
    "if v3 != Vector(3): # ne\n",
    "    print(\"Não é zero\")\n",
    "v3.imprime()"
   ]
  },
  {
   "cell_type": "markdown",
   "metadata": {},
   "source": [
    "#### Herança de classes\n",
    "Classe Base, superclasse ou mãe e classe subclasse ou filha"
   ]
  },
  {
   "cell_type": "code",
   "execution_count": 5,
   "metadata": {},
   "outputs": [
    {
     "name": "stdout",
     "output_type": "stream",
     "text": [
      "Oferta do dia: Camiseta Social\n",
      "Oferta da semana: Calça Jeans\n",
      "Atenção - diferença > 10% - Preço não alterado\n",
      "Pode fazer a venda - valor total =  811.9999999999999\n"
     ]
    }
   ],
   "source": [
    "class ProdutoCritico(Produto):\n",
    "    '''Define a classe Produto Crítico.'''\n",
    "    # Construtor da classe ProdutoCritico\n",
    "    def __init__(self, nome, codigo, preco, quantidade, estoque_min):\n",
    "        '''Cria uma instância de Produto Crítico.'''\n",
    "        # Chama a __init__ da classe mãe\n",
    "        super().__init__(nome, codigo, preco, quantidade)\n",
    "        self._estoque_min = estoque_min\n",
    "    # idem a classe mãe considerando estoque mínimo\n",
    "    def altera_quantidade(self, novo_pedido):\n",
    "        if novo_pedido + self._estoque_min > self._quantidade:\n",
    "            return False\n",
    "        return super().altera_quantidade(novo_pedido)\n",
    "    # idem a classe mãe - False se alterou mais de 10%\n",
    "    def altera_preco(self, novo_preco):\n",
    "        pp = self._preco\n",
    "        if novo_preco > 1.1 * pp or novo_preco < 0.9 * pp:\n",
    "            return False\n",
    "        ap = super().altera_preco(novo_preco)\n",
    "        return True\n",
    "    \n",
    "# testes da nova classe ProdutoCritico\n",
    "pc1 = ProdutoCritico(\"Camiseta Social\", 2123456, 5.56, 1000, 100)\n",
    "pc2 = ProdutoCritico(\"Calça Jeans\", 2423564, 8.12, 500, 100)\n",
    "print(\"Oferta do dia:\", pc1.obtem_nome())\n",
    "print(\"Oferta da semana:\", pc2.obtem_nome())\n",
    "\n",
    "# altera o preço\n",
    "if pc1.altera_preco(4.00): print(\"Preço alterado hoje\")\n",
    "else: print(\"Atenção - diferença > 10% - Preço não alterado\")\n",
    "\n",
    "# verifica se pode fazer uma venda\n",
    "if pc2.altera_quantidade(400):\n",
    "    print(\"Pode fazer a venda - valor total = \", pc2.obtem_preco() * 100)\n",
    "else:\n",
    "    print(\"Não tem produto suficiente ou excedeu o estoque mínimo\")"
   ]
  },
  {
   "cell_type": "markdown",
   "metadata": {},
   "source": [
    "#### Classes internas ou encaixadas"
   ]
  },
  {
   "cell_type": "code",
   "execution_count": 34,
   "metadata": {},
   "outputs": [],
   "source": [
    "class A:\n",
    "    class B:\n",
    "        a = 1"
   ]
  },
  {
   "cell_type": "markdown",
   "metadata": {},
   "source": [
    "#### Cópias e sinônimos de listas"
   ]
  },
  {
   "cell_type": "code",
   "execution_count": null,
   "metadata": {},
   "outputs": [],
   "source": [
    "a = [[1, 2], [3, 4, 5], [6, 7, 8, 9]]\n",
    "# 1\n",
    "# cria b com o mesmo tamanho de a\n",
    "b = [[0] for k in range(len(a))]\n",
    "# copia elemento por elemento\n",
    "for k in range(len(a)): b[k] = a[k]\n",
    "# 2\n",
    "b = []\n",
    "# b precisa existir para que o comando abaixo funcione\n",
    "b[:] = a[:]\n",
    "# 3\n",
    "# nesse caso, será criado um novo objeto\n",
    "b = a[:]\n",
    "# 4\n",
    "# nesse caso, b é o resultado de uma concatenação\n",
    "b = [] + a"
   ]
  },
  {
   "cell_type": "code",
   "execution_count": 35,
   "metadata": {},
   "outputs": [
    {
     "name": "stdout",
     "output_type": "stream",
     "text": [
      "[[-1, 45], [81, 37, 75]] [[32, 45], [81, 37, 75]]\n",
      "2988384079816 2988384081224\n"
     ]
    }
   ],
   "source": [
    "import copy\n",
    "x = [[32, 45], [81, 37, 75]]\n",
    "y = copy.deepcopy(x)\n",
    "x[0][0] = -1\n",
    "print(x, y)\n",
    "print(id(x), id(y))"
   ]
  }
 ],
 "metadata": {
  "kernelspec": {
   "display_name": "Python 3",
   "language": "python",
   "name": "python3"
  },
  "language_info": {
   "codemirror_mode": {
    "name": "ipython",
    "version": 3
   },
   "file_extension": ".py",
   "mimetype": "text/x-python",
   "name": "python",
   "nbconvert_exporter": "python",
   "pygments_lexer": "ipython3",
   "version": "3.7.1"
  }
 },
 "nbformat": 4,
 "nbformat_minor": 2
}
