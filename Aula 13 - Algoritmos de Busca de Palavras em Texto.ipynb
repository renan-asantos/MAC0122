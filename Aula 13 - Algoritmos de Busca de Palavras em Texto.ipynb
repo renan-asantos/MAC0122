{
 "cells": [
  {
   "cell_type": "markdown",
   "metadata": {},
   "source": [
    "### Algoritmo Tradicional"
   ]
  },
  {
   "cell_type": "markdown",
   "metadata": {},
   "source": [
    "Usando a notação do Python - verificar quantas vezes a string a[0:m] ocorre em b[0:n]"
   ]
  },
  {
   "cell_type": "code",
   "execution_count": 47,
   "metadata": {},
   "outputs": [
    {
     "data": {
      "text/plain": [
       "3"
      ]
     },
     "execution_count": 47,
     "metadata": {},
     "output_type": "execute_result"
    }
   ],
   "source": [
    "# i e j esq>>dir\n",
    "# a esq>>dir\n",
    "def comparapadrao1(a, b):\n",
    "    la, lb = len(a), len(b)\n",
    "    conta = 0\n",
    "    for k in range(lb - la + 1):\n",
    "        i, j = 0, k\n",
    "        while i < la:\n",
    "#             print(i, j)\n",
    "            if a[i] != b[j]: break\n",
    "            i, j = i + 1, j + 1\n",
    "        if i == la: conta += 1\n",
    "    return conta\n",
    "\n",
    "# i e j esq<<dir\n",
    "# a esq>>dir\n",
    "def comparapadrao2(a, b):\n",
    "    la, lb = len(a), len(b)\n",
    "    conta = 0\n",
    "    for k in range(la - 1, lb):\n",
    "        i, j = la - 1, k\n",
    "        while i >= 0:\n",
    "#             print(i, j)\n",
    "            if a[i] != b[j]: break\n",
    "            i, j = i - 1, j - 1\n",
    "        if i < 0: conta += 1\n",
    "    return conta\n",
    "\n",
    "b = 'abcdebcdjcd'\n",
    "a = 'cd'\n",
    "comparapadrao1(a,b)"
   ]
  },
  {
   "cell_type": "markdown",
   "metadata": {},
   "source": [
    "**Exercícios**\n",
    "\n",
    "1) Adapte o algoritmo acima, varrendo b da direita para a esquerda e procurando a em b da esquerda para a direita."
   ]
  },
  {
   "cell_type": "code",
   "execution_count": 45,
   "metadata": {},
   "outputs": [
    {
     "data": {
      "text/plain": [
       "3"
      ]
     },
     "execution_count": 45,
     "metadata": {},
     "output_type": "execute_result"
    }
   ],
   "source": [
    "# i,j esq>>dir\n",
    "# a esq<<dir\n",
    "def comparapadrao3(a, b):\n",
    "    la, lb = len(a), len(b)\n",
    "    conta = 0\n",
    "    for k in range(lb-la, -1, -1):\n",
    "        i, j = 0, k\n",
    "        while i < la:\n",
    "            if a[i] != b[j]: break\n",
    "            i, j = i + 1, j + 1\n",
    "        if i == la: conta += 1\n",
    "    return conta\n",
    "\n",
    "b = 'abcdebcdjcd'\n",
    "a = 'cd'\n",
    "comparapadrao3(a,b)"
   ]
  },
  {
   "cell_type": "markdown",
   "metadata": {},
   "source": [
    "2) Idem, varrendo b da direita para a esquerda e procurando a em b da direita para a esquerda."
   ]
  },
  {
   "cell_type": "code",
   "execution_count": 60,
   "metadata": {},
   "outputs": [
    {
     "data": {
      "text/plain": [
       "2"
      ]
     },
     "execution_count": 60,
     "metadata": {},
     "output_type": "execute_result"
    }
   ],
   "source": [
    "# i,j esq>>dir\n",
    "# a esq<<dir\n",
    "def comparapadrao4(a, b):\n",
    "    la, lb = len(a), len(b)\n",
    "    conta = 0\n",
    "    for k in range(lb-1, -1, -1):\n",
    "        i, j = la-1, k\n",
    "        while i >= 0:\n",
    "            if a[i] != b[j]: break\n",
    "            i, j = i - 1, j - 1\n",
    "        if i < 0: conta += 1\n",
    "    return conta\n",
    "\n",
    "b = 'abcdebcdjce'\n",
    "a = 'cd'\n",
    "comparapadrao4(a,b)"
   ]
  },
  {
   "cell_type": "markdown",
   "metadata": {},
   "source": [
    "3) Quantas comparações são feitas no mínimo e no máximo? Encontre sequências a e b onde o mínimo e o máximo ocorrem.  \n",
    "R: Com m=len(a) e n=len(b), são feitas no máximo n comparações e no mínimo m comparações.\n",
    "\n",
    "P/máx: b = 'abababab' e a = 'ab'; O(n) \n",
    "\n",
    "P/mín: b = 'abcde' e a = 'ab'; O(m)\n",
    "\n",
    "4) Por que a complexidade dos algoritmos acima é O($n^2$)?  \n",
    "R: O alg. possui ordem O(n.m), mas se m=n, então teremos ordem O($n^2$)\n",
    "\n",
    "5) Explique porque as versões acima são todas equivalentes.  \n",
    "R: Se forem sempre os mesmos \"a\" e \"b\" então o número de comparações é igual para qualquer dos comparapadraox."
   ]
  },
  {
   "cell_type": "markdown",
   "metadata": {},
   "source": [
    "6) Adapte os algoritmos acima, devolvendo o índice inicial em b da primeira ocorrência de a ou -1 se não encontrar."
   ]
  },
  {
   "cell_type": "code",
   "execution_count": 67,
   "metadata": {},
   "outputs": [
    {
     "data": {
      "text/plain": [
       "10"
      ]
     },
     "execution_count": 67,
     "metadata": {},
     "output_type": "execute_result"
    }
   ],
   "source": [
    "def devolveindice1(a, b):\n",
    "    la, lb = len(a), len(b)\n",
    "    for k in range(lb - la + 1):\n",
    "        i, j = 0, k\n",
    "        while i < la:\n",
    "            if a[i] != b[j]: break\n",
    "            i, j = i + 1, j + 1\n",
    "        if i == la: return k\n",
    "    return -1\n",
    "\n",
    "def devolveindice2(a, b):\n",
    "    la, lb = len(a), len(b)\n",
    "    for k in range(la - 1, lb):\n",
    "        i, j = la - 1, k\n",
    "        while i >= 0:\n",
    "            if a[i] != b[j]: break\n",
    "            i, j = i - 1, j - 1\n",
    "        if i < 0: return k\n",
    "    return -1\n",
    "\n",
    "def devolveindice3(a, b):\n",
    "    la, lb = len(a), len(b)\n",
    "    conta = 0\n",
    "    for k in range(lb-la, -1, -1):\n",
    "        i, j = 0, k\n",
    "        while i < la:\n",
    "            if a[i] != b[j]: break\n",
    "            i, j = i + 1, j + 1\n",
    "        if i == la: return k\n",
    "    return -1\n",
    "\n",
    "def devolveindice4(a, b):\n",
    "    la, lb = len(a), len(b)\n",
    "    conta = 0\n",
    "    for k in range(lb-1, -1, -1):\n",
    "        i, j = la-1, k\n",
    "        while i >= 0:\n",
    "            if a[i] != b[j]: break\n",
    "            i, j = i - 1, j - 1\n",
    "        if i < 0: return k\n",
    "    return -1\n",
    "\n",
    "b = 'abcdebcdjcd'\n",
    "a = 'cd'\n",
    "devolveindice4(a,b)"
   ]
  },
  {
   "cell_type": "markdown",
   "metadata": {},
   "source": [
    "### Algoritmo de Boyer-Moore – versão 1 [1977]\n",
    "\n",
    "Quando se compara a[0:m] com b[i:k] (k=i+m), isto é, quando se compara a com um segmento qualquer dentro de b, a próxima comparação não precisa ser com b[i+1:k+1].  \n",
    "Pode ser com b[i+d:k+d] onde d é calculado de forma que b[k] , o próximo caractere de b a ser comparado, coincida com a última ocorrência de b[k] em a.  "
   ]
  },
  {
   "cell_type": "markdown",
   "metadata": {},
   "source": [
    "Saber qual a última ocorrência do próximo elemento de a em b. Ou seja, vai dando 'match' em cada elemento de a em b.  \n",
    "Exemplo 'abc': primeiro tenta achar o próx 'a' em b, se não casou a seq, tenta achar o próx 'b' em b, se não casou tenta achar o próx 'c' em b.  \n",
    "É preciso saber o alfabeto nesse algortimo. Alfabeto são todos os caracteres de 0 a 255.  \n",
    "Deslocamento = Tamanho - última ocorrência"
   ]
  },
  {
   "cell_type": "code",
   "execution_count": 34,
   "metadata": {},
   "outputs": [],
   "source": [
    "# i,j esq<<dir\n",
    "# a dir>>esq\n",
    "def BoyerMoore1(a, b):\n",
    "    m, n = len(a), len(b)\n",
    "    conta = 0\n",
    "    # tabela de últimas ocorrências de cada caractere em a\n",
    "    ult = [-1] * 256\n",
    "    # varrer a e definir as últimas ocorrências de cada caractere\n",
    "    for k in range(m): ult[ord(a[k])] = k\n",
    "    # procura a em b - da esquerda para a direita\n",
    "    k = m - 1\n",
    "    while k < n:\n",
    "        i, j = m-1, k\n",
    "        while i >= 0:\n",
    "            if a[i] != b[j]: break\n",
    "            i, j = i-1, j-1\n",
    "        # comparação chegou ao fim\n",
    "        if i < 0: conta += 1\n",
    "        # caso particular - se k é n-1 (último de b)\n",
    "        # então k+1 é índice inválido, o if abaixo evita esse caso\n",
    "        if k + 1 >= n: break\n",
    "        # desloca baseado no valor de b[k+1]\n",
    "        k = k + m - ult[ord(b[k+1])]\n",
    "    return conta"
   ]
  },
  {
   "cell_type": "markdown",
   "metadata": {},
   "source": [
    "O algoritmo acima é O(n.m).  \n",
    "A fase de pré-processamento é O(m+K), onde K depende do alfabeto.  \n",
    "A fase de busca é O(n.m)"
   ]
  },
  {
   "cell_type": "markdown",
   "metadata": {},
   "source": [
    "**Exercícios**\n",
    "\n",
    "1) Na versão acima, comparamos a da direita para a esquerda (do fim para o começo). Claro que é equivalente a comparar da esquerda para a direita (do início para o fim). Faça essa modificação no algoritmo.  \n",
    "2) Usando a mesma ideia do algoritmo acima, é possível avançar a comparação mais ainda à frente? O que teria que ser feito?  \n",
    "3) No algoritmo acima é necessário conhecer o alfabeto, ou os valores possíveis do próximo caractere de b a ser comparado. Se em vez de caracteres de 1 byte, fossem considerados caracteres de 2 bytes como ficaria o algoritmo?  \n",
    "4) Quando não há coincidência do próximo caractere de b com nenhum dos caracteres de a, já vimos que os deslocamento será de m+1posições. Uma pequena variação seria procurar o primeiro b[p] tal que b[p] == a[0]. Ou seja, vamos aumentar o deslocamento. Adicione essa modificação no algoritmo  "
   ]
  },
  {
   "cell_type": "markdown",
   "metadata": {},
   "source": [
    "### Algoritmo de Boyer-Moore – versão 2\n",
    "\n",
    "A versão 2 do algoritmo é intuitiva, mas tem uma implementação mais engenhosa. Não é necessário conhecer-se o alfabeto de a.\n",
    "Também só depende de a.  \n",
    "Neste algoritmo é necessário que a comparação de a com b, seja feita da direita para a esquerda:  \n",
    "Para i = m-1, m, ..., n-1  \n",
    "Comparar a[m-1] com b[i]; a[m-2] com b[i-1]; ...; a[0] com b[i-m+1]"
   ]
  },
  {
   "cell_type": "code",
   "execution_count": 68,
   "metadata": {},
   "outputs": [],
   "source": [
    "def SubCadeias(a):\n",
    "    m = len(a)\n",
    "    # desloc[i] (1 <= i, <= m)\n",
    "    # deslocamento quando coincide com sub-cadeia de tamanho i\n",
    "    desloc = [0] + (m - 1) * [m]\n",
    "    # testa todos os tamanhos de 1 até m - 1\n",
    "    for k in range(1, m):\n",
    "        # ii percorre a partir do final\n",
    "        # jj percorre a a partir da posição corrente\n",
    "        ii = m - 1\n",
    "        jj = m - 2\n",
    "        ultimojj = jj\n",
    "        tam = 0\n",
    "        achou = False\n",
    "        while not achou:\n",
    "            # se não coincide, continua a procura\n",
    "            # no próximo candidato\n",
    "            if a[ii] != a[jj]:\n",
    "                ii = m - 1\n",
    "                jj = ultimojj = ultimojj - 1\n",
    "                if jj < 0: break\n",
    "            else:\n",
    "                tam += 1\n",
    "                # verifica se chegou ao tamanho procurado\n",
    "                if tam == k or jj == 0:\n",
    "                    achou = True\n",
    "                    desloc[k] = m - 1 - ultimojj\n",
    "                else:\n",
    "                    # continua procurando\n",
    "                    ii -= 1\n",
    "                    jj -= 1\n",
    "    return desloc"
   ]
  },
  {
   "cell_type": "code",
   "execution_count": 69,
   "metadata": {},
   "outputs": [],
   "source": [
    "def BoyerMoore2(a, b):\n",
    "    # Calcula os deslocamentos para a\n",
    "    dsl = SubCadeias(a)\n",
    "    # Procura a em b\n",
    "    conta = 0\n",
    "    m, n = len(a), len(b)\n",
    "    k = m - 1\n",
    "    while k < n:\n",
    "        i = m - 1\n",
    "        j = k\n",
    "        while i >= 0:\n",
    "            if a[i] != b[j]:\n",
    "                # Se nada coincidiu, desloca apenas 1\n",
    "                if i == m - 1: k += 1\n",
    "                else:\n",
    "                    # Se 1 ou mais coincidiram, desloca conforme dsl\n",
    "                    # Coincidiu até o i anterior (i + 1)\n",
    "                    # Desloca conforme dsl\n",
    "                    k = k + dsl[i + 1]\n",
    "                # Sai do while interno para comparar com novo trecho\n",
    "                break\n",
    "            # continua a comparação\n",
    "            i -= 1\n",
    "            j -= 1\n",
    "        # Sai do while interno por break ou por i < 0\n",
    "        if i < 0:\n",
    "            conta += 1\n",
    "            k += 1\n",
    "    # Fim de todas as comparações possíveis\n",
    "    return conta"
   ]
  },
  {
   "cell_type": "markdown",
   "metadata": {},
   "source": [
    "Alg é O(n.m)\n",
    "Tanto a fase de pré-processamento como a fase de busca são O(n.m).  \n",
    "Da mesma forma que a versão 1, no caso geral se comporta melhor que o algoritmo tradicional.  \n",
    "Esse algoritmo se comporta melhor quando há muita repetição de trechos em a, o que pode ocorrer com maior frequência se m é grande.  \n",
    "Entretanto quando não há coincidência o deslocamento é de apenas1 enquanto que na versão 1 o deslocamento é em geral maior"
   ]
  }
 ],
 "metadata": {
  "kernelspec": {
   "display_name": "Python 3",
   "language": "python",
   "name": "python3"
  },
  "language_info": {
   "codemirror_mode": {
    "name": "ipython",
    "version": 3
   },
   "file_extension": ".py",
   "mimetype": "text/x-python",
   "name": "python",
   "nbconvert_exporter": "python",
   "pygments_lexer": "ipython3",
   "version": "3.7.3"
  },
  "toc": {
   "base_numbering": 1,
   "nav_menu": {},
   "number_sections": true,
   "sideBar": true,
   "skip_h1_title": false,
   "title_cell": "Table of Contents",
   "title_sidebar": "Contents",
   "toc_cell": false,
   "toc_position": {},
   "toc_section_display": true,
   "toc_window_display": false
  }
 },
 "nbformat": 4,
 "nbformat_minor": 2
}
