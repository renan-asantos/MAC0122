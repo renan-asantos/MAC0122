{
 "cells": [
  {
   "cell_type": "markdown",
   "metadata": {},
   "source": [
    "### Comparação de algoritmos de busca"
   ]
  },
  {
   "cell_type": "markdown",
   "metadata": {},
   "source": [
    "Comparando a busca sequencial, busca binária, Hash e Hash com LL, gostariamos de um algoritmo ideal com busca O(logn) e inserção e remoção melhor que O(n).\n",
    "\n",
    "A situação ideal é conseguida quando a tabela tem uma estrutura em árvore de busca. Veremos árvores binárias de busca"
   ]
  },
  {
   "cell_type": "markdown",
   "metadata": {},
   "source": [
    "### Árvore binária"
   ]
  },
  {
   "cell_type": "markdown",
   "metadata": {},
   "source": [
    "Chamamos de Árvores Binárias (AB), um conjunto finito T de nós ou vértices, onde existe um nó especial chamado raiz e os restantes podem ser divididos em dois subconjuntos disjuntos, chamados de sub-árvores esquerda e direita que também são Árvores Binárias. Em particular T pode ser vazio.\n",
    "\n",
    "Cada nó pode ter 0, 1 ou 2 filhos. Todo nó tem um pai.\n",
    "\n",
    "Dizemos que o nível da raiz é 1 e que o nível de um nó é o nível de seu pai mais 1. A altura de uma AB é o maior dos níveis de seus nós.\n",
    "\n",
    "Dizemos que um nó é folha da AB se não tem filhos."
   ]
  },
  {
   "cell_type": "markdown",
   "metadata": {},
   "source": [
    "### Árvore binária de busca "
   ]
  },
  {
   "cell_type": "markdown",
   "metadata": {},
   "source": [
    "Seja T uma AB. Se v é um nó de T, chamamos de info(v) a informação armazenada em v.\n",
    "\n",
    "Chamamos T de Árvore Binária de Busca (ABB) quando:\n",
    "\n",
    "   1. Se v1 pertencente à sub-árvore esquerda de v então info(v1) < info(v).\n",
    "   2. Se v2 pertencente à sub-árvore direita de v então info(v2) > info(v).\n",
    "   \n",
    "Ou seja, tudo na esquerda é menor que v e tudo na direita é maior que v "
   ]
  },
  {
   "cell_type": "markdown",
   "metadata": {},
   "source": [
    "### Árvores binárias como LL"
   ]
  },
  {
   "cell_type": "markdown",
   "metadata": {},
   "source": [
    "Podemos representar uma ABB com uma lista ligada, onde cada elemento tem os seguintes\n",
    "campos:\n",
    "\n",
    "1. info - campo de informação\n",
    "2. eprox - apontador para a sub-árvore esquerda\n",
    "3. dprox - apontador para a sub-árvore direita\n",
    "\n",
    "Representar uma ABB como um nó que é a raiz e duas referências para as respectivas sub-árvore esquerda e direita:"
   ]
  },
  {
   "cell_type": "code",
   "execution_count": 62,
   "metadata": {},
   "outputs": [],
   "source": [
    "class ABB:\n",
    "\n",
    "    def __init__(self, raiz):\n",
    "        ''' cria uma nova ABB com esta raiz e sem filhos.'''\n",
    "        self._info = raiz\n",
    "        self._eprox = None\n",
    "        self._dprox = None"
   ]
  },
  {
   "cell_type": "markdown",
   "metadata": {},
   "source": [
    "### Algoritmos de busca"
   ]
  },
  {
   "cell_type": "markdown",
   "metadata": {},
   "source": [
    "#### A1"
   ]
  },
  {
   "cell_type": "code",
   "execution_count": 5,
   "metadata": {},
   "outputs": [],
   "source": [
    "# Procura elemento com info igual a v na ABB h\n",
    "# Devolve o 1º nó encontrado ou None\n",
    "# Versão recursiva\n",
    "def busca(h, v):\n",
    "    if h is None: return None\n",
    "    t = h._info\n",
    "    if t == v: return h\n",
    "    if t > v:\n",
    "        return busca(h._eprox, v) # procura à esquerda\n",
    "    else:\n",
    "        return busca(h._dprox, v) # procura à direita"
   ]
  },
  {
   "cell_type": "markdown",
   "metadata": {},
   "source": [
    "No pior caso, o número de comparações é igual ao número de nós da árvore, no caso em que a árvore tem tantos níveis quanto o número de elementos. Portanto a complexidade é O(N).\n",
    "\n",
    "A complexidade é a altura da árvore, portanto é conveniente que a árvore tenha sempre altura mínima. Árvore com tal propriedade é tida como **completa** (todos os nós com filhos\n",
    "vazios estão no último ou penúltimo nível). Aqui é O(logn)\n",
    "\n",
    "**Lema**\n",
    "\n",
    "Se T uma AB completa com N nós e altura H. Então $2^{(H-1)} ≤ N ≤ 2^{H}-1$."
   ]
  },
  {
   "cell_type": "code",
   "execution_count": 7,
   "metadata": {},
   "outputs": [],
   "source": [
    "# Procura elemento com info igual a v na ABB h\n",
    "# Devolve o 1º nó encontrado ou None\n",
    "# Versão não recursiva\n",
    "def buscaNR(h, v):\n",
    "    p = h\n",
    "    while p is not None:\n",
    "        t = p._info\n",
    "        if t == v: return p # encontrou\n",
    "        if t > v: p = p._eprox # à esquerda\n",
    "        else: p = p._dprox # à direita\n",
    "    # se chegou aqui é porque não encontrou\n",
    "    return None"
   ]
  },
  {
   "cell_type": "markdown",
   "metadata": {},
   "source": [
    "### Outros algoritmos"
   ]
  },
  {
   "cell_type": "markdown",
   "metadata": {},
   "source": [
    "#### A3\n"
   ]
  },
  {
   "cell_type": "code",
   "execution_count": 27,
   "metadata": {},
   "outputs": [
    {
     "data": {
      "text/plain": [
       "1"
      ]
     },
     "execution_count": 27,
     "metadata": {},
     "output_type": "execute_result"
    }
   ],
   "source": [
    "# conta elementos com info igual a v na ABB h\n",
    "def conta(h, v):\n",
    "    if h is None: return 0\n",
    "    # verifica se conta este nó\n",
    "    if v == h._info: a = 1\n",
    "    else: a = 0\n",
    "    # conta este nó mais as ABBs esquerda e direita\n",
    "    return a + conta(h._eprox, v) + conta(h._dprox, v)"
   ]
  },
  {
   "cell_type": "markdown",
   "metadata": {},
   "source": [
    "**Exercícios**\n",
    "\n",
    "1. Refaça, supondo que elementos iguais, estarão sempre à direita.\n",
    "2. Refaça novamente usando um algoritmo não recursivo."
   ]
  },
  {
   "cell_type": "code",
   "execution_count": 55,
   "metadata": {},
   "outputs": [
    {
     "data": {
      "text/plain": [
       "1"
      ]
     },
     "execution_count": 55,
     "metadata": {},
     "output_type": "execute_result"
    }
   ],
   "source": [
    "# recursivo, iguais só na direita\n",
    "def conta_dir(h, v):\n",
    "    if h is None: return 0\n",
    "    if v == h._info: \n",
    "        return 1 + conta_dir(h._dprox, v)\n",
    "    return 0 + conta_dir(h._dprox, v) + conta_dir(h._eprox, v)\n",
    "\n",
    "# iguais só na direita\n",
    "def conta_NRD(h, v):\n",
    "    cont = 0\n",
    "    while h != None:\n",
    "        if v == h._info: \n",
    "            cont+=1\n",
    "            h = h._dprox\n",
    "        elif v < h._info: h = h._eprox\n",
    "        else: h = h._dprox\n",
    "    return cont\n",
    "\n",
    "# iguais só na esquerda\n",
    "def conta_NRE(h, v):\n",
    "    cont = 0\n",
    "    while h != None:\n",
    "        if v == h._info: \n",
    "            cont+=1\n",
    "            h = h._eprox\n",
    "        elif v < h._info: h = h._eprox\n",
    "        else: h = h._dprox\n",
    "    return cont\n",
    "\n",
    "abb = None\n",
    "for k in [2,2,3,1,4,7,2,4]: abb = insere(abb, k)\n",
    "conta_NRE(abb,2)"
   ]
  },
  {
   "cell_type": "markdown",
   "metadata": {},
   "source": [
    "#### A4"
   ]
  },
  {
   "cell_type": "code",
   "execution_count": 63,
   "metadata": {},
   "outputs": [],
   "source": [
    "# Monta uma ABB a partir de uma lista já classificada\n",
    "# Elementos repetidos tanto a esquerda quanto a direita\n",
    "def montaABB(a, iesq, idir):\n",
    "    # verifica se há elementos na lista\n",
    "    if iesq > idir: return None\n",
    "    m = (iesq + idir) // 2 # elemento médio\n",
    "    abb = ABB(a[m])\n",
    "    abb_esq = montaABB(a, iesq, m - 1)\n",
    "    abb_dir = montaABB(a, m + 1, idir)\n",
    "    abb._eprox = abb_esq\n",
    "    abb._dprox = abb_dir\n",
    "    return abb\n",
    "\n",
    "# chamada raiz = monta(a, 0, n-1) monta a árvore com todos os elementos\n",
    "\n",
    "lista = [0, 1, 2, 3, 4, 5, 6]\n",
    "outralista = [0,1,1,2,2,2,3,3,3,3,4,4,4,5,5,6,7,8,9]\n",
    "mabb = montaABB(lista, 0, 6)\n",
    "moabb = montaABB(outralista, 0, 18)"
   ]
  },
  {
   "cell_type": "markdown",
   "metadata": {},
   "source": [
    "**Exercícios**\n",
    "\n",
    "1. Desenhe a ABB construída pelo algoritmo acima para as listas:\n",
    "      1. [0, 1, 2, 3, 4, 5, 6]\n",
    "      2. [0, 1, 1, 3, 4, 4, 5, 6, 6]\n",
    "      \n",
    "2. Refaça a função montaABB acima usando sub-listas do Python. A função terá então um só parâmetro montaABB(a)."
   ]
  },
  {
   "cell_type": "markdown",
   "metadata": {},
   "source": [
    "#### A5"
   ]
  },
  {
   "cell_type": "code",
   "execution_count": null,
   "metadata": {},
   "outputs": [],
   "source": [
    "# Conta o número de nós de uma ABB h\n",
    "def contaNN(h):\n",
    "    if h is None: return 0\n",
    "    return 1 + contaNN(h._eprox) + contaNN(h._dprox)"
   ]
  },
  {
   "cell_type": "markdown",
   "metadata": {},
   "source": [
    "**Exercícios**\n",
    "\n",
    "1. Função conta1(h) que conta o número de folhas de uma AB h.\n",
    "2. Função conta2(h) que conta o número de nós que tenham pelo menos um filho de uma AB h.\n",
    "3. Função conta3(h, x) que conta número de elementos com info >= x de uma ABB h.\n",
    "4. Idem ao problema A4 acima, considerando uma ABB onde elementos iguais ficam à direita."
   ]
  },
  {
   "cell_type": "code",
   "execution_count": 1,
   "metadata": {},
   "outputs": [],
   "source": [
    "# conta nº de folhas\n",
    "def conta1(h):\n",
    "    if h._eprox == None and h._dprox == None: return 1\n",
    "    return conta1(h._eprox) + conta1(h._dprox)\n",
    "\n",
    "# conta nº de nós com pelo menos 1 filho\n",
    "def conta2(h):\n",
    "    if h ._eprox != None or h._dprox != None:\n",
    "        return 1 + conta2(h._eprox) + conta2(h._dprox)\n",
    "    return 0\n",
    "\n",
    "# conta nº de elementos >= x\n",
    "def conta3(h,x):\n",
    "    t = h._info\n",
    "    if t >= x:\n",
    "        return 1 + conta3(h._eprox) + conta3(h._dprox)\n",
    "    else:\n",
    "        return 0 + conta3(h._dprox)"
   ]
  },
  {
   "cell_type": "markdown",
   "metadata": {},
   "source": [
    "**Extra Prova 2**\n",
    "\n",
    "Escreva uma função ImprimeMI (R, x) que recebe uma ABB R e um valor x. Imprime todos os elementos da ABB (campo info) maiores ou iguais a x em ordem crescente."
   ]
  },
  {
   "cell_type": "code",
   "execution_count": 2,
   "metadata": {},
   "outputs": [],
   "source": [
    "# imprime todos os infos de R.eprox (parte esquerda)\n",
    "# imprime R.info\n",
    "# imprime todos os infos de R.dprox (parte direita)\n",
    "def ImprimeMI(R, x):\n",
    "    if R == None: return\n",
    "    if R.info < x:\n",
    "        ImprimeMI(R.dprox, x)\n",
    "    elif R.info == x:\n",
    "        print(R.info)\n",
    "        ImprimeMI(R.dprox, x)\n",
    "    else:\n",
    "        ImprimeMI(R.eprox, x)\n",
    "        print(R.info)\n",
    "        ImprimeMI(R.dprox, x)\n",
    "        \n",
    "def ImprimeMI2(R, x):\n",
    "    if R == None: return\n",
    "    if R.info < x:\n",
    "        ImprimeMI2(R.dprox, x)\n",
    "    else:\n",
    "        ImprimeMI2(R.eprox, x)\n",
    "        print(R.info)\n",
    "        ImprimeMI2(R.dprox, x)\n",
    "        \n",
    "def ImprimeMI3(R, x):\n",
    "    if R == None: return\n",
    "    ImprimeMI3(R.eprox, x)\n",
    "    if R.info >= x: \n",
    "        print(R.info)\n",
    "    ImprimeMI3(R.dprox, x)\n"
   ]
  },
  {
   "cell_type": "markdown",
   "metadata": {},
   "source": [
    "#### A6"
   ]
  },
  {
   "cell_type": "code",
   "execution_count": null,
   "metadata": {},
   "outputs": [],
   "source": [
    "# Devolve lista com todos os nós de um certo nivel niv\n",
    "def listaniveis(h, listnos, niv, niv_atual):\n",
    "    if niv == niv_atual:\n",
    "        if h is not None: listnos.append(h._info)\n",
    "        else: listnos.append(None)\n",
    "        return\n",
    "    # ainda não chegou neste nível\n",
    "    if h is not None:\n",
    "        listaniveis(h._eprox, listnos, niv, niv_atual + 1)\n",
    "        listaniveis(h._dprox, listnos, niv, niv_atual + 1)\n",
    "    else:\n",
    "        listaniveis(None, listnos, niv, niv_atual + 1)\n",
    "        listaniveis(None, listnos, niv, niv_atual + 1)\n",
    "        \n",
    "# lista cada um dos níveis da ABB mabb\n",
    "k = 0\n",
    "while True:\n",
    "    ln = []\n",
    "    listaniveis(mabb, ln, k, 0)\n",
    "    if ln.count(None) == 2 ** k: break\n",
    "    print(\"nivel \", k,\":\", ln)\n",
    "    k = k + 1\n",
    "print(\"Esta ABB tem\", k, \"níveis\")"
   ]
  },
  {
   "cell_type": "markdown",
   "metadata": {},
   "source": [
    "#### A7"
   ]
  },
  {
   "cell_type": "code",
   "execution_count": 9,
   "metadata": {},
   "outputs": [],
   "source": [
    "# transforma o trecho acima em uma função\n",
    "def ImprimeNiveisABB(h, nomeABB):\n",
    "    print(\"\\n\\nLista a ABB:\", nomeABB, \"nível a nível\")\n",
    "    k = 0\n",
    "    while True:\n",
    "        ln = []\n",
    "        listaniveis(h, ln, k, 0)\n",
    "        if ln.count(None) == 2 ** k: break\n",
    "        print(\"nivel \", k,\":\", ln)\n",
    "        k = k + 1\n",
    "    print(\"ABB\", nomeABB, \"com\", k, \"níveis\")"
   ]
  },
  {
   "cell_type": "markdown",
   "metadata": {},
   "source": [
    "#### A8"
   ]
  },
  {
   "cell_type": "code",
   "execution_count": 64,
   "metadata": {},
   "outputs": [
    {
     "name": "stdout",
     "output_type": "stream",
     "text": [
      "0\n",
      "1\n",
      "2\n",
      "3\n",
      "4\n",
      "5\n",
      "6\n"
     ]
    }
   ],
   "source": [
    "# percorre a ABB da sub-árvore esquerda, para raiz, para sub-árvore direita\n",
    "# nós visitados em ordem crescente do campo info\n",
    "def ImprimeABB(h):\n",
    "    if h is None: return\n",
    "    ImprimeABB(h._eprox)\n",
    "    print(h._info)\n",
    "    ImprimeABB(h._dprox)\n",
    "    \n",
    "ImprimeABB(mabb)"
   ]
  },
  {
   "cell_type": "markdown",
   "metadata": {},
   "source": [
    "**Exercícios**\n",
    "\n",
    "1. Idem visitando primeiro a raiz, sub-árvore esquerda e direita (ordem pré-fixa)\n",
    "2. Idem visitando primeiro a sub-árvore esquerda, a direita e a raiz (ordem pós-fixa)"
   ]
  },
  {
   "cell_type": "code",
   "execution_count": null,
   "metadata": {},
   "outputs": [],
   "source": [
    "def ImprimeABB1(h):\n",
    "    if h is None: return\n",
    "    print(h._info)\n",
    "    ImprimeABB1(h._eprox)\n",
    "    ImprimeABB1(h._dprox)\n",
    "    \n",
    "def ImprimeABB2(h):\n",
    "    if h is None: return\n",
    "    ImprimeABB1(h._eprox)\n",
    "    print(h._info)\n",
    "    ImprimeABB1(h._dprox)"
   ]
  },
  {
   "cell_type": "markdown",
   "metadata": {},
   "source": [
    "### Algoritmos de inserção numa ABB"
   ]
  },
  {
   "cell_type": "markdown",
   "metadata": {},
   "source": [
    "#### A9"
   ]
  },
  {
   "cell_type": "code",
   "execution_count": 13,
   "metadata": {},
   "outputs": [],
   "source": [
    "# Insere elemento com info x na ABB h\n",
    "# Elementos iguais sempre a direita\n",
    "def insere(h, x):\n",
    "    # verifica se será o primeiro\n",
    "    if h is None:\n",
    "        h = ABB(x)\n",
    "        return h\n",
    "    # procura o lugar para inserir x\n",
    "    # percorre a ABB até achar um nó com o filho None\n",
    "    p, q = h, h\n",
    "    while q is not None:\n",
    "        v = q._info\n",
    "        p = q\n",
    "        # à esquerda ou à direita\n",
    "        if x < v: q = q._eprox # esquerda\n",
    "        else: q = q._dprox # direita\n",
    "    # Neste ponto, p é o pai do nó a ser inserido\n",
    "    # Verificar novamente se é a esquerda ou direita\n",
    "    q = ABB(x)\n",
    "    if x < p._info: p._eprox = q\n",
    "    else: p._dprox = q\n",
    "    return h\n",
    "\n",
    "# exepmlo\n",
    "abb = None\n",
    "for k in [2,2,1,3]: abb = insere(abb, k)"
   ]
  },
  {
   "cell_type": "markdown",
   "metadata": {},
   "source": [
    "**Exercícios**\n",
    "\n",
    "1. A versão acima usa duas referências (p e q) para percorrer a ABB. Refaça usando apenas uma referência.\n",
    "2. Escreva uma versão recursiva da inserção"
   ]
  },
  {
   "cell_type": "code",
   "execution_count": null,
   "metadata": {},
   "outputs": [],
   "source": []
  },
  {
   "cell_type": "markdown",
   "metadata": {},
   "source": [
    "**Complexidade da construção de uma ABB por inserções sucessivas**\n",
    "\n",
    "O($n^2$)\n",
    "\n",
    "**Complexidade da inserção em uma ABB**\n",
    "\n",
    "Pior caso: O(n)\n",
    "\n",
    "Melhor caso (árvore completa): O(logn)"
   ]
  },
  {
   "cell_type": "markdown",
   "metadata": {},
   "source": [
    "### Algoritmo de remoção em uma ABB"
   ]
  },
  {
   "cell_type": "code",
   "execution_count": null,
   "metadata": {},
   "outputs": [],
   "source": []
  },
  {
   "cell_type": "markdown",
   "metadata": {},
   "source": [
    "### Árvores Binárias de Busca Completas"
   ]
  },
  {
   "cell_type": "markdown",
   "metadata": {},
   "source": [
    "ABBs podem ficar desbalanceadas com a inserção ou remoção de novos elementos. Seria ideal que a ABB fosse **completa** (com menor número de níveis possível). Pode-se fazer isso de 2 formas:\n",
    "\n",
    "1. Toda vez que um elemento é inserido ou removido, rearranja-se a ABB para a mesma continue completa.\n",
    "\n",
    "2. Inserir e remover elementos da maneira usual e de tempos em tempos executar um algoritmo que reconstrói a ABB deixando-a completa.\n",
    "\n",
    "Com uma ABB completa, temos a situação ideal de busca, pois temos uma algoritmo equivalente ao da busca binária O(log N), em uma tabela que permite inserções rápidas (O(log N)) e remoções tão rápidas quanto possível (O(N) no pior caso). Além disso, só usa\n",
    "a quantidade de memória necessária."
   ]
  }
 ],
 "metadata": {
  "kernelspec": {
   "display_name": "Python 3",
   "language": "python",
   "name": "python3"
  },
  "language_info": {
   "codemirror_mode": {
    "name": "ipython",
    "version": 3
   },
   "file_extension": ".py",
   "mimetype": "text/x-python",
   "name": "python",
   "nbconvert_exporter": "python",
   "pygments_lexer": "ipython3",
   "version": "3.7.3"
  },
  "toc": {
   "base_numbering": 1,
   "nav_menu": {},
   "number_sections": true,
   "sideBar": true,
   "skip_h1_title": false,
   "title_cell": "Table of Contents",
   "title_sidebar": "Contents",
   "toc_cell": false,
   "toc_position": {},
   "toc_section_display": true,
   "toc_window_display": false
  }
 },
 "nbformat": 4,
 "nbformat_minor": 2
}
