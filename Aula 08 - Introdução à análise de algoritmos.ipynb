{
 "cells": [
  {
   "cell_type": "markdown",
   "metadata": {},
   "source": [
    "### Eficiência de um algoritmo"
   ]
  },
  {
   "cell_type": "code",
   "execution_count": null,
   "metadata": {},
   "outputs": [],
   "source": [
    "# raízes de equação do 2. grau\n",
    "def raiz(a, b, c):\n",
    "    ...\n",
    "    x1 = (-b+sqrt(b*b-4*a*c))/(2*a)\n",
    "    x2 = (-b-sqrt(b*b-4*a*c))/(2*a)\n",
    "    return x1, x2"
   ]
  },
  {
   "cell_type": "markdown",
   "metadata": {},
   "source": [
    "Se desconsiderarmos os casos particulares (delta negativo, a=0, etc.), o algoritmo realiza sempre o mesmo número de operações. Podemos afirmar então que o tempo que esse algoritmo leva é uma constante.\n",
    "\n",
    "__t = k__"
   ]
  },
  {
   "cell_type": "code",
   "execution_count": 2,
   "metadata": {},
   "outputs": [],
   "source": [
    "# máximo entre os elementos de uma lista\n",
    "def maxm(a, N):\n",
    "    m = a[0]\n",
    "    for i in range(1, N):\n",
    "        if m < a[i]: m = a[i]\n",
    "    return m"
   ]
  },
  {
   "cell_type": "markdown",
   "metadata": {},
   "source": [
    "Esse algoritmo sempre repete um conjunto de operações N-1 vezes.\n",
    "Podemos afirmar então que seu tempo é proporcional a N-1 mais uma constante.\n",
    "\n",
    "__t = k1 + k2 * (N - 1)__"
   ]
  },
  {
   "cell_type": "code",
   "execution_count": null,
   "metadata": {},
   "outputs": [],
   "source": [
    "# contar a quantidade de nulos numa lista de N elementos\n",
    "def nulos(a, N):\n",
    "    c = 0\n",
    "    for i in range(N):\n",
    "        if a[i] == 0: c += 1\n",
    "    return c"
   ]
  },
  {
   "cell_type": "markdown",
   "metadata": {},
   "source": [
    "Igual ao anterior, repetindo N vezes.\n",
    "\n",
    "__t = k1 + k2 * N__"
   ]
  },
  {
   "cell_type": "code",
   "execution_count": null,
   "metadata": {},
   "outputs": [],
   "source": [
    "# verifica se duas listas de N elementos são iguais\n",
    "def compara(a, b, N):\n",
    "    if len(a) != len(b): return False\n",
    "    tam = len(a)\n",
    "    for i in range(tam):\n",
    "        if a[i] != b[i]: return False\n",
    "    return True"
   ]
  },
  {
   "cell_type": "markdown",
   "metadata": {},
   "source": [
    "O resultado depende dos dados, pois termina no primeiro elemento diferente encontrado. No pior caso (todos iguais ou o último diferente) também é proporcional a N. Mesmo considerando um caso médio de N/2, será proporcional a N.\n",
    "\n",
    "__t = k1 + k2 * N__"
   ]
  },
  {
   "cell_type": "code",
   "execution_count": null,
   "metadata": {},
   "outputs": [],
   "source": [
    "# conta os algarismos significativos de um inteiro\n",
    "def num_algar(x):\n",
    "    c = 0\n",
    "    while x != 0:\n",
    "    c += 1\n",
    "    x /= 10\n",
    "    return c"
   ]
  },
  {
   "cell_type": "markdown",
   "metadata": {},
   "source": [
    "O resultado c é o menor inteiro maior que log x (base 10).\n",
    "\n",
    "$10^{c-1}$ <= x <= $10^c$\n",
    "\n",
    "O tempo é então proporcional a log x.\n",
    "\n",
    "__t = k1 + k2 * log(x)__"
   ]
  },
  {
   "cell_type": "code",
   "execution_count": null,
   "metadata": {},
   "outputs": [],
   "source": [
    "# contar quantos bits significativos tem um inteiro\n",
    "def num_bits(x):\n",
    "    c = 0\n",
    "    while x != 0:\n",
    "    c += 1\n",
    "    x /= 2 # ou x = x << 1\n",
    "    return c"
   ]
  },
  {
   "cell_type": "markdown",
   "metadata": {},
   "source": [
    "O resultado c é o menor inteiro maior que lg x (base 2).\n",
    "\n",
    "$2^{c-1}$ <= x <= $2^c$\n",
    "\n",
    "O tempo é então proporcional a lg x.\n",
    "\n",
    "__t = k1 + k2 * lg(x)__"
   ]
  },
  {
   "cell_type": "code",
   "execution_count": null,
   "metadata": {},
   "outputs": [],
   "source": [
    "# imprimir tabela de i / j (1 ≤ i, j ≤ N)\n",
    "def imp_tabela (N, M):\n",
    "    for i in range(1, N + 1):\n",
    "        for j in range(1, N + 1):\n",
    "            print(i / j, end = \"\")\n",
    "    print()"
   ]
  },
  {
   "cell_type": "markdown",
   "metadata": {},
   "source": [
    "O tempo é proporcional a N*N.\n",
    "__t = k1 + k2 * $N^2$__"
   ]
  },
  {
   "cell_type": "markdown",
   "metadata": {},
   "source": [
    "### Comparação entre os algoritmos"
   ]
  },
  {
   "cell_type": "markdown",
   "metadata": {},
   "source": [
    "1(constante) < log(N) < N < N*log(N) < $N^2$ < $N^3$"
   ]
  },
  {
   "cell_type": "markdown",
   "metadata": {},
   "source": [
    "### Notação O(f(N))"
   ]
  },
  {
   "cell_type": "markdown",
   "metadata": {},
   "source": [
    "##### Definição:\n",
    "Dizemos que g(N) é O(f(N)) se existirem constantes c0 e N0 tais que g(N) < c0f(N) para todo N>N0. Ou seja, a partir de um determinado N, a função f(N) multiplicada por uma constante é sempre maior que g(N). \n",
    "\n",
    "Outra forma é definir O(f(N)) como um conjunto:\n",
    "\n",
    "O(f(N)) = { g(N) se existem constantes c0 e N0 tais que g(N) < c0f(N) para todo N>N0 }\n",
    "\n",
    "Podemos dizer livremente que g(N) = O(f(N)), mas o mais correto é dizer:\n",
    "\n",
    "g(N) é O(f(N)) ou g(N) ∈ O(f(N)).\n",
    "\n",
    "Com essa notação, podemos desprezar os termos que contribuem em menor grau para o tempo total, obtendo assim um limitante superior mais simplificado para o tempo total.\n",
    "\n",
    "Veja que c0 e N0 escondem coisas importantes sobre o funcionamento do algoritmo:\n",
    " Nada sabemos para N < N0.\n",
    " c0 pode esconder uma enorme ineficiência do algoritmo – por exemplo, é melhor $N^2$ nano-segundos que log N séculos.\n",
    "\n",
    "Somente o termo de maior ordem é considerado.\n",
    "\n",
    "O(1) é o mesmo que O(2) que é o mesmo que O(K) – constante\n",
    "\n",
    "O(1 + $N$ + $N^2$) é O($N^2$)\n",
    "\n",
    "O(N.logN + $N^2$) é O($N^2$)\n",
    "\n",
    "Propriedades:\n",
    "\n",
    "a) O(f(N)) + O(g(N)) é O(max{f(N), g(N)})\n",
    "\n",
    "b) O(f(N)).O(g(N)) é O(f(N).g(N))\n",
    "\n",
    "c) O(k.f(N)) é O(f(N)) desde que k ≠ 0"
   ]
  },
  {
   "cell_type": "markdown",
   "metadata": {},
   "source": [
    "### Exemplo de análise de algoritmo"
   ]
  },
  {
   "cell_type": "code",
   "execution_count": null,
   "metadata": {},
   "outputs": [],
   "source": [
    "# busca sequencial\n",
    "\n",
    "# procura x em a[0], a[1], ... a[N-1]\n",
    "# devolve o índice do primeiro elemento encontrado\n",
    "def busca(a, x, N):\n",
    "    for i in range(N):\n",
    "        if a[i] == x return i\n",
    "    return -1"
   ]
  },
  {
   "cell_type": "markdown",
   "metadata": {},
   "source": [
    "Melhor caso:  1 - uma só comparação quando x == a[0].\n",
    "\n",
    "Pior caso: N – quando não encontra ou x == a[N-1].\n",
    "\n",
    "Caso médio: (1+N) / 2 – média entre o pior e o melhor.\n",
    "\n",
    "Para considerarmos a média entre o melhor e o pior caso, estamos assumindo uma hipótese\n",
    "importante. A probabilidade de ser qualquer valor entre 1 e N é a mesma. Isso normalmente\n",
    "não é verdade."
   ]
  }
 ],
 "metadata": {
  "kernelspec": {
   "display_name": "Python 3",
   "language": "python",
   "name": "python3"
  },
  "language_info": {
   "codemirror_mode": {
    "name": "ipython",
    "version": 3
   },
   "file_extension": ".py",
   "mimetype": "text/x-python",
   "name": "python",
   "nbconvert_exporter": "python",
   "pygments_lexer": "ipython3",
   "version": "3.7.3"
  }
 },
 "nbformat": 4,
 "nbformat_minor": 2
}
