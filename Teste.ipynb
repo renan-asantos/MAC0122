{
 "cells": [
  {
   "cell_type": "code",
   "execution_count": 1,
   "metadata": {},
   "outputs": [
    {
     "data": {
      "text/plain": [
       "7"
      ]
     },
     "execution_count": 1,
     "metadata": {},
     "output_type": "execute_result"
    }
   ],
   "source": [
    "15//2"
   ]
  },
  {
   "cell_type": "code",
   "execution_count": 1,
   "metadata": {},
   "outputs": [
    {
     "data": {
      "text/plain": [
       "<__main__.Produto at 0x269d7884ac8>"
      ]
     },
     "execution_count": 1,
     "metadata": {},
     "output_type": "execute_result"
    }
   ],
   "source": [
    "class Produto():\n",
    "    pass\n",
    "Produto()"
   ]
  },
  {
   "cell_type": "code",
   "execution_count": 4,
   "metadata": {},
   "outputs": [
    {
     "data": {
      "text/plain": [
       "False"
      ]
     },
     "execution_count": 4,
     "metadata": {},
     "output_type": "execute_result"
    }
   ],
   "source": [
    "s1 = {1,3,2,4,2}\n",
    "lista = [1,2]\n",
    "5 in lista"
   ]
  },
  {
   "cell_type": "code",
   "execution_count": 1,
   "metadata": {},
   "outputs": [],
   "source": [
    "#Isso é\n",
    "somaquad = lambda x, y: x * x + y * y\n",
    "\n",
    "#Igual a isso\n",
    "def somaquad(x, y):\n",
    "    return x * x + y * y"
   ]
  },
  {
   "cell_type": "code",
   "execution_count": 6,
   "metadata": {},
   "outputs": [
    {
     "name": "stdout",
     "output_type": "stream",
     "text": [
      "(1+1j)\n"
     ]
    }
   ],
   "source": [
    "a = 1+1j\n",
    "print(a)"
   ]
  },
  {
   "cell_type": "code",
   "execution_count": 2,
   "metadata": {},
   "outputs": [
    {
     "name": "stdout",
     "output_type": "stream",
     "text": [
      "1\n",
      "3\n"
     ]
    }
   ],
   "source": [
    "for a in [1,2,3]:\n",
    "    if a == 2:\n",
    "        continue\n",
    "    print(a)"
   ]
  },
  {
   "cell_type": "code",
   "execution_count": 1,
   "metadata": {},
   "outputs": [
    {
     "name": "stdout",
     "output_type": "stream",
     "text": [
      "Tentativa de divisão por zero\n",
      "Entre com um float:0\n",
      "Entrada válida\n",
      "sempre executo o finally\n"
     ]
    }
   ],
   "source": [
    "#max(1,2,3)\n",
    "lis = [1,2,3,4]\n",
    "#max(lis)\n",
    "\n",
    "def func(x,y):\n",
    "    try:\n",
    "        ratio = x / y\n",
    "        print(ratio)\n",
    "    except ZeroDivisionError:\n",
    "        print(\"Tentativa de divisão por zero\")\n",
    "func(4,0)\n",
    "\n",
    "def func2():\n",
    "    # loop até ler um float válido\n",
    "    while True:\n",
    "        try:\n",
    "            val = float(input(\"Entre com um float:\"))\n",
    "        except:\n",
    "            # Entra neste ponto em caso de qualquer exceção.\n",
    "            # Em particular quando algo errado é digitado.\n",
    "            print(\"Entrada inválida\")\n",
    "        else:\n",
    "            # Entra neste ponto se a digitação for correta\n",
    "            print(\"Entrada válida\")\n",
    "            break\n",
    "        finally:\n",
    "            print('sempre executo o finally')\n",
    "func2()"
   ]
  },
  {
   "cell_type": "code",
   "execution_count": 7,
   "metadata": {},
   "outputs": [
    {
     "data": {
      "text/plain": [
       "1"
      ]
     },
     "execution_count": 7,
     "metadata": {},
     "output_type": "execute_result"
    }
   ],
   "source": [
    "# Procura x na lista a\n",
    "def busca(a, x):\n",
    "    try:\n",
    "        i = 0\n",
    "        # Se não encontrar vai dar índice inválido\n",
    "        while a[i] != x: i += 1\n",
    "        return i\n",
    "    except:\n",
    "        # Entra neste ponto se deu índice inválido\n",
    "        return -1\n",
    "lista = [1,2,3]\n",
    "busca(lista,2)"
   ]
  },
  {
   "cell_type": "markdown",
   "metadata": {},
   "source": [
    "### Tratamento de exceções"
   ]
  },
  {
   "cell_type": "code",
   "execution_count": 13,
   "metadata": {},
   "outputs": [
    {
     "ename": "ValueError",
     "evalue": "O parâmetro não pode ser negativo",
     "output_type": "error",
     "traceback": [
      "\u001b[1;31m---------------------------------------------------------------------------\u001b[0m",
      "\u001b[1;31mValueError\u001b[0m                                Traceback (most recent call last)",
      "\u001b[1;32m<ipython-input-13-3556636b88fa>\u001b[0m in \u001b[0;36m<module>\u001b[1;34m\u001b[0m\n\u001b[0;32m      3\u001b[0m         \u001b[1;32mraise\u001b[0m \u001b[0mValueError\u001b[0m\u001b[1;33m(\u001b[0m\u001b[1;34m\"O parâmetro não pode ser negativo\"\u001b[0m\u001b[1;33m)\u001b[0m\u001b[1;33m\u001b[0m\u001b[1;33m\u001b[0m\u001b[0m\n\u001b[0;32m      4\u001b[0m         \u001b[1;32mreturn\u001b[0m \u001b[0msqrt\u001b[0m\u001b[1;33m(\u001b[0m\u001b[0mx\u001b[0m\u001b[1;33m)\u001b[0m\u001b[1;33m\u001b[0m\u001b[1;33m\u001b[0m\u001b[0m\n\u001b[1;32m----> 5\u001b[1;33m \u001b[0mminha_sqrt\u001b[0m\u001b[1;33m(\u001b[0m\u001b[1;33m-\u001b[0m\u001b[1;36m3\u001b[0m\u001b[1;33m)\u001b[0m\u001b[1;33m\u001b[0m\u001b[1;33m\u001b[0m\u001b[0m\n\u001b[0m",
      "\u001b[1;32m<ipython-input-13-3556636b88fa>\u001b[0m in \u001b[0;36mminha_sqrt\u001b[1;34m(x)\u001b[0m\n\u001b[0;32m      1\u001b[0m \u001b[1;32mdef\u001b[0m \u001b[0mminha_sqrt\u001b[0m\u001b[1;33m(\u001b[0m\u001b[0mx\u001b[0m\u001b[1;33m)\u001b[0m\u001b[1;33m:\u001b[0m\u001b[1;33m\u001b[0m\u001b[1;33m\u001b[0m\u001b[0m\n\u001b[0;32m      2\u001b[0m     \u001b[1;32mif\u001b[0m \u001b[0mx\u001b[0m \u001b[1;33m<\u001b[0m \u001b[1;36m0\u001b[0m\u001b[1;33m:\u001b[0m\u001b[1;33m\u001b[0m\u001b[1;33m\u001b[0m\u001b[0m\n\u001b[1;32m----> 3\u001b[1;33m         \u001b[1;32mraise\u001b[0m \u001b[0mValueError\u001b[0m\u001b[1;33m(\u001b[0m\u001b[1;34m\"O parâmetro não pode ser negativo\"\u001b[0m\u001b[1;33m)\u001b[0m\u001b[1;33m\u001b[0m\u001b[1;33m\u001b[0m\u001b[0m\n\u001b[0m\u001b[0;32m      4\u001b[0m         \u001b[1;32mreturn\u001b[0m \u001b[0msqrt\u001b[0m\u001b[1;33m(\u001b[0m\u001b[0mx\u001b[0m\u001b[1;33m)\u001b[0m\u001b[1;33m\u001b[0m\u001b[1;33m\u001b[0m\u001b[0m\n\u001b[0;32m      5\u001b[0m \u001b[0mminha_sqrt\u001b[0m\u001b[1;33m(\u001b[0m\u001b[1;33m-\u001b[0m\u001b[1;36m3\u001b[0m\u001b[1;33m)\u001b[0m\u001b[1;33m\u001b[0m\u001b[1;33m\u001b[0m\u001b[0m\n",
      "\u001b[1;31mValueError\u001b[0m: O parâmetro não pode ser negativo"
     ]
    }
   ],
   "source": [
    "'''\n",
    "def minha_sqrt(x):\n",
    "    if x < 0:\n",
    "        raise ValueError(\"O parâmetro não pode ser negativo\")\n",
    "        return sqrt(x)\n",
    "minha_sqrt(-3)\n",
    "'''"
   ]
  },
  {
   "cell_type": "markdown",
   "metadata": {},
   "source": [
    "## Tratar Exceções (IMPORTANTE)"
   ]
  },
  {
   "cell_type": "code",
   "execution_count": 6,
   "metadata": {},
   "outputs": [
    {
     "name": "stdout",
     "output_type": "stream",
     "text": [
      "teste 1 - tratando a exceção\n",
      "Erro – parâmetro inválido\n"
     ]
    }
   ],
   "source": [
    "from math import sqrt\n",
    "def minha_sqrt(x):\n",
    "    if x < 0:\n",
    "        raise ValueError('O parâmetro não pode ser negativo')\n",
    "        return sqrt(x)\n",
    "print(\"teste 1 - tratando a exceção\")\n",
    "try:\n",
    "    print(minha_sqrt(-2))\n",
    "except:\n",
    "    print(\"Erro – parâmetro inválido\")\n",
    "#print(\"teste 2 - sem tratar a exceção\")\n",
    "#print(minha_sqrt(-1))  "
   ]
  },
  {
   "cell_type": "markdown",
   "metadata": {},
   "source": [
    "## Objetos iteráveis"
   ]
  },
  {
   "cell_type": "code",
   "execution_count": 7,
   "metadata": {},
   "outputs": [
    {
     "name": "stdout",
     "output_type": "stream",
     "text": [
      "[0, 1, 2, 3, 4, 5, 6, 7, 8, 9]\n",
      "[45, 25, -12]\n",
      "[1, -4, 82, 0]\n",
      "[-8, 1, 4, 120]\n",
      "['e', 'x', 'e', 'm', 'p', 'l', 'o']\n",
      "['x', 'y', 'chato']\n",
      "[21, -78, 1248]\n",
      "['x', 'y', 'chato']\n",
      "[('x', 21), ('y', -78), ('chato', 1248)]\n"
     ]
    }
   ],
   "source": [
    "s = [45, 25, -12]\n",
    "t = (1, -4, 82, 0)\n",
    "c = {1, 4, -8, 120}\n",
    "st = \"exemplo\"\n",
    "d = {\"x\":21, \"y\":-78, \"chato\":1248}\n",
    "\n",
    "print(list(range(10)))\n",
    "print(list(s)) # o mesmo que print(s)\n",
    "print(list(t))\n",
    "print(list(c))\n",
    "print(list(st))\n",
    "print(list(d))\n",
    "print(list(d.values()))\n",
    "print(list(d.keys()))\n",
    "print(list(d.items())) "
   ]
  },
  {
   "cell_type": "markdown",
   "metadata": {},
   "source": [
    "## Yield"
   ]
  },
  {
   "cell_type": "code",
   "execution_count": 5,
   "metadata": {},
   "outputs": [
    {
     "name": "stdout",
     "output_type": "stream",
     "text": [
      "0\n",
      "1\n",
      "1\n",
      "2\n",
      "3\n",
      "5\n",
      "8\n",
      "13\n",
      "21\n",
      "34\n",
      "55\n",
      "89\n"
     ]
    }
   ],
   "source": [
    "# gerador dos números de fibonacci menores ou iguais a n\n",
    "def fib(n):\n",
    "    a = 0\n",
    "    b = 1\n",
    "    while a <= n:\n",
    "        yield a\n",
    "        a, b = b, a + b\n",
    "# imprime os números de fibonacci menores ou iguais a 100\n",
    "for x in fib(100): print(x)"
   ]
  },
  {
   "cell_type": "code",
   "execution_count": null,
   "metadata": {},
   "outputs": [],
   "source": [
    "# gera todos os anos bissextos do ano a1 até o ano a2\n",
    "def bissexto(a1, a2):\n",
    "    for k in range(a1, a2 + 1):\n",
    "        if k % 4 == 0 and k % 400 != 0:\n",
    "            yield k\n",
    "\n",
    "# imprime os anos bissextos de 1980 a 2020\n",
    "for x in bissexto(1980, 2020):\n",
    "    print(x)"
   ]
  },
  {
   "cell_type": "markdown",
   "metadata": {},
   "source": [
    "## Sintaxe resumida"
   ]
  },
  {
   "cell_type": "code",
   "execution_count": null,
   "metadata": {},
   "outputs": [],
   "source": [
    "# vetor de n elementos com zeros\n",
    "v = [0 for k in range(n)]\n",
    "# matriz de n x m elementos zeros\n",
    "mat = [m * [0] for k in range(n)]\n",
    "# todos os fatores de N\n",
    "fat = [k for k in range(2, N) if N % k == 0]\n",
    "# set dos quadrados de 0 a t\n",
    "ss = {j * j for j in range(t + 1)}\n",
    "# dic dos quadrados de 0 a t\n",
    "dd = {j:j * j for j in range(t + 1)}\n",
    "# gerador dos quadrados de 0 a t-1\n",
    "for k in (j * j for j in range(t)): print(k)"
   ]
  },
  {
   "cell_type": "code",
   "execution_count": 16,
   "metadata": {},
   "outputs": [
    {
     "data": {
      "text/plain": [
       "[[0, 0, 0], [0, 0, 0]]"
      ]
     },
     "execution_count": 16,
     "metadata": {},
     "output_type": "execute_result"
    }
   ],
   "source": [
    "n = 2\n",
    "m = 3\n",
    "mat = [m * [0] for k in range(n)]\n",
    "mat"
   ]
  },
  {
   "cell_type": "markdown",
   "metadata": {},
   "source": [
    "## Objetos de 1 classe (especiais)"
   ]
  },
  {
   "cell_type": "code",
   "execution_count": 15,
   "metadata": {},
   "outputs": [
    {
     "name": "stdout",
     "output_type": "stream",
     "text": [
      "ooaoa\n"
     ]
    }
   ],
   "source": [
    "ola = print\n",
    "ola('ooaoa')"
   ]
  },
  {
   "cell_type": "code",
   "execution_count": 3,
   "metadata": {},
   "outputs": [
    {
     "ename": "NameError",
     "evalue": "name 'Produto' is not defined",
     "output_type": "error",
     "traceback": [
      "\u001b[0;31m---------------------------------------------------------------------------\u001b[0m",
      "\u001b[0;31mNameError\u001b[0m                                 Traceback (most recent call last)",
      "\u001b[0;32m<ipython-input-3-9d66bf6b21e5>\u001b[0m in \u001b[0;36m<module>\u001b[0;34m()\u001b[0m\n\u001b[0;32m----> 1\u001b[0;31m \u001b[0;32mclass\u001b[0m \u001b[0mProduto\u001b[0m\u001b[0;34m:\u001b[0m\u001b[0;34m\u001b[0m\u001b[0m\n\u001b[0m\u001b[1;32m      2\u001b[0m \u001b[0;34m\u001b[0m\u001b[0m\n\u001b[1;32m      3\u001b[0m     \u001b[0;34m'''Define a classe Produto.'''\u001b[0m\u001b[0;34m\u001b[0m\u001b[0m\n\u001b[1;32m      4\u001b[0m     \u001b[0;31m# Construtor da classe Produto\u001b[0m\u001b[0;34m\u001b[0m\u001b[0;34m\u001b[0m\u001b[0m\n\u001b[1;32m      5\u001b[0m     \u001b[0;32mdef\u001b[0m \u001b[0m__init__\u001b[0m\u001b[0;34m(\u001b[0m\u001b[0mself\u001b[0m\u001b[0;34m,\u001b[0m \u001b[0mnome\u001b[0m\u001b[0;34m,\u001b[0m \u001b[0mcodigo\u001b[0m\u001b[0;34m,\u001b[0m \u001b[0mpreco\u001b[0m\u001b[0;34m,\u001b[0m \u001b[0mquantidade\u001b[0m\u001b[0;34m)\u001b[0m\u001b[0;34m:\u001b[0m\u001b[0;34m\u001b[0m\u001b[0m\n",
      "\u001b[0;32m<ipython-input-3-9d66bf6b21e5>\u001b[0m in \u001b[0;36mProduto\u001b[0;34m()\u001b[0m\n\u001b[1;32m     36\u001b[0m     \u001b[0;31m# testes da classe\u001b[0m\u001b[0;34m\u001b[0m\u001b[0;34m\u001b[0m\u001b[0m\n\u001b[1;32m     37\u001b[0m     \u001b[0;32mif\u001b[0m \u001b[0m__name__\u001b[0m \u001b[0;34m==\u001b[0m \u001b[0;34m\"__main__\"\u001b[0m\u001b[0;34m:\u001b[0m\u001b[0;34m\u001b[0m\u001b[0m\n\u001b[0;32m---> 38\u001b[0;31m         \u001b[0mp1\u001b[0m \u001b[0;34m=\u001b[0m \u001b[0mProduto\u001b[0m\u001b[0;34m(\u001b[0m\u001b[0;34m\"Camisa Social\"\u001b[0m\u001b[0;34m,\u001b[0m \u001b[0;36m123456\u001b[0m\u001b[0;34m,\u001b[0m \u001b[0;36m45.56\u001b[0m\u001b[0;34m,\u001b[0m \u001b[0;36m1000\u001b[0m\u001b[0;34m)\u001b[0m\u001b[0;34m\u001b[0m\u001b[0m\n\u001b[0m\u001b[1;32m     39\u001b[0m         \u001b[0mp2\u001b[0m \u001b[0;34m=\u001b[0m \u001b[0mProduto\u001b[0m\u001b[0;34m(\u001b[0m\u001b[0;34m\"Calça Jeans\"\u001b[0m\u001b[0;34m,\u001b[0m \u001b[0;36m423564\u001b[0m\u001b[0;34m,\u001b[0m \u001b[0;36m98.12\u001b[0m\u001b[0;34m,\u001b[0m \u001b[0;36m500\u001b[0m\u001b[0;34m)\u001b[0m\u001b[0;34m\u001b[0m\u001b[0m\n\u001b[1;32m     40\u001b[0m \u001b[0;34m\u001b[0m\u001b[0m\n",
      "\u001b[0;31mNameError\u001b[0m: name 'Produto' is not defined"
     ]
    }
   ],
   "source": [
    "class Produto:\n",
    "\n",
    "    '''Define a classe Produto.'''\n",
    "    \n",
    "    # Construtor da classe Produto\n",
    "    def __init__(self, nome, codigo, preco, quantidade):\n",
    "        '''Cria uma instância de Produto.'''\n",
    "        self._nome = nome\n",
    "        self._codigo = codigo\n",
    "        self._preco = preco\n",
    "        self._quantidade = quantidade\n",
    "\n",
    "    # Retorna com o nome do produto\n",
    "    def obtem_nome(self):\n",
    "        return self._nome\n",
    "\n",
    "    # Retorna com o código do produto\n",
    "    def obtem_codigo(self):\n",
    "        return self._codigo\n",
    "\n",
    "    # Retorna com o preço corrente do produto\n",
    "    def obtem_preco(self):\n",
    "        return self._preco\n",
    "\n",
    "    # Devolve True se novo preço maior que o anterior\n",
    "    def altera_preco(self, novo_preco):\n",
    "        pp = self._preco\n",
    "        self._preco = novo_preco\n",
    "        if novo_preco > pp: return True\n",
    "        return False\n",
    "\n",
    "    # Devolve False se a quantidade de produtos requerida não está disponível\n",
    "    def altera_quantidade(self, novo_pedido):\n",
    "        if novo_pedido > self._quantidade: return False\n",
    "        self._quantidade -= novo_pedido\n",
    "        return True\n",
    "    # testes da classe\n",
    "    if __name__ == \"__main__\":\n",
    "        p1 = Produto(\"Camisa Social\", 123456, 45.56, 1000)\n",
    "        p2 = Produto(\"Calça Jeans\", 423564, 98.12, 500)\n",
    "\n",
    "        print(\"Oferta do dia:\", p1.obtem_nome())\n",
    "        print(\"Oferta da semana:\", p2.obtem_nome())\n",
    "\n",
    "        # altera o preço\n",
    "        if p1.altera_preco(40.00): print(\"Preço alterado hoje\")\n",
    "        else: print(\"Atenção - baixou o preço\")\n",
    "\n",
    "        # verifica se pode fazer uma venda\n",
    "        if p2.altera_quantidade(100):\n",
    "            print(\"Pode fazer a venda - valor total = \", p2.obtem_preco() * 100)\n",
    "        else: \n",
    "            print(\"Não tem produto suficiente para esta venda\")"
   ]
  },
  {
   "cell_type": "code",
   "execution_count": 9,
   "metadata": {},
   "outputs": [
    {
     "name": "stdout",
     "output_type": "stream",
     "text": [
      "/ 3 4 /\n",
      "/ 2 0 /\n",
      "/ 0 0 /\n",
      "/ 5 4 /\n",
      "/ 3 4 /\n",
      "/ 2 0 /\n"
     ]
    }
   ],
   "source": [
    "class Duplas:\n",
    "\n",
    "    '''Define a classe Duplas.'''\n",
    "    # Construtor da classe\n",
    "    def __init__(self, p1 = 0, p2 = 0):\n",
    "        '''Construtor da classe.'''\n",
    "        self.primeiro = p1\n",
    "        self.segundo = p2\n",
    "        \n",
    "    # Retorna no primeiro parâmetro a soma de dois elementos da classe\n",
    "    def SomaDuplas(self, d1, d2):\n",
    "        self.primeiro = d1.primeiro + d2.primeiro\n",
    "        self.segundo = d1.segundo + d2.segundo\n",
    "    \n",
    "    # Mostre uma dupla no formato /a b/\n",
    "    def Mostre(self):\n",
    "        print(\"/\", self.primeiro, self.segundo, \"/\")\n",
    "        \n",
    "# Exemplos de uso da classe\n",
    "\n",
    "x = Duplas(3,4)\n",
    "x.Mostre()\n",
    "\n",
    "y = Duplas(2)\n",
    "y.Mostre()\n",
    "\n",
    "# /0 0/\n",
    "z = Duplas()\n",
    "z.Mostre()\n",
    "\n",
    "#z.SomaDuplas(x, y).Mostre()\n",
    "\n",
    "# z = /5 8/ + /1 1/\n",
    "z.SomaDuplas(x,y)\n",
    "\n",
    "z.Mostre()\n",
    "x.Mostre()\n",
    "y.Mostre()"
   ]
  },
  {
   "cell_type": "code",
   "execution_count": 16,
   "metadata": {},
   "outputs": [
    {
     "ename": "TypeError",
     "evalue": "unsupported operand type(s) for //: 'Duplas' and 'Duplas'",
     "output_type": "error",
     "traceback": [
      "\u001b[0;31m---------------------------------------------------------------------------\u001b[0m",
      "\u001b[0;31mTypeError\u001b[0m                                 Traceback (most recent call last)",
      "\u001b[0;32m<ipython-input-16-6e0979e8c875>\u001b[0m in \u001b[0;36m<module>\u001b[0;34m()\u001b[0m\n\u001b[1;32m     37\u001b[0m \u001b[0;34m\u001b[0m\u001b[0m\n\u001b[1;32m     38\u001b[0m \u001b[0mx\u001b[0m\u001b[0;34m,\u001b[0m \u001b[0my\u001b[0m \u001b[0;34m=\u001b[0m \u001b[0mDuplas\u001b[0m\u001b[0;34m(\u001b[0m\u001b[0;36m3\u001b[0m\u001b[0;34m,\u001b[0m\u001b[0;36m4\u001b[0m\u001b[0;34m)\u001b[0m\u001b[0;34m,\u001b[0m \u001b[0mDuplas\u001b[0m\u001b[0;34m(\u001b[0m\u001b[0;36m1\u001b[0m\u001b[0;34m,\u001b[0m\u001b[0;36m2\u001b[0m\u001b[0;34m)\u001b[0m\u001b[0;34m\u001b[0m\u001b[0m\n\u001b[0;32m---> 39\u001b[0;31m \u001b[0mz\u001b[0m \u001b[0;34m=\u001b[0m \u001b[0mx\u001b[0m\u001b[0;34m//\u001b[0m\u001b[0my\u001b[0m\u001b[0;34m\u001b[0m\u001b[0m\n\u001b[0m\u001b[1;32m     40\u001b[0m \u001b[0mprint\u001b[0m\u001b[0;34m(\u001b[0m\u001b[0mz\u001b[0m\u001b[0;34m)\u001b[0m\u001b[0;34m\u001b[0m\u001b[0m\n",
      "\u001b[0;31mTypeError\u001b[0m: unsupported operand type(s) for //: 'Duplas' and 'Duplas'"
     ]
    }
   ],
   "source": [
    "class Duplas:\n",
    "\n",
    "    '''Define a classe Duplas.'''\n",
    "    # Construtor da classe\n",
    "    def __init__(self, p1 = 0, p2 = 0):\n",
    "        '''Construtor da classe.'''\n",
    "        self.primeiro = p1\n",
    "        self.segundo = p2\n",
    "    \n",
    "    # Retorna a soma de dois elementos da classe\n",
    "    def __add__(d1, d2):\n",
    "        pri = d1.primeiro + d2.primeiro\n",
    "        seg = d1.segundo + d2.segundo\n",
    "        return Duplas(pri, seg)\n",
    "    \n",
    "    # Transforma uma Dupla em string para imprimir no formato / a b /\n",
    "    def __str__(d):\n",
    "        return \"/\" + str(d.primeiro) + \" \" + str(d.segundo) + \"/\"\n",
    "    \n",
    "    # Retorna a subtração de dois elementos da classe\n",
    "    def __sub__(d1,d2):\n",
    "        pri = d1.primeiro - d2.primeiro\n",
    "        seg = d1.segundo - d2.segundo\n",
    "        return Duplas(pri, seg)\n",
    "        \n",
    "    # Retorna a multiplicação dos elementos da classe\n",
    "    def __mult__(d1,d2):\n",
    "        pri = d1.primeiro * d2.primeiro\n",
    "        seg = d1.segundo * d2.segundo\n",
    "        return Duplas(pri, seg)\n",
    "    \n",
    "    # Retorna a divisão dos elementos da classe\n",
    "    def __div__(d1,d2):\n",
    "        pri = d1.primeiro // d2.primeiro\n",
    "        seg = d1.segundo // d2.segundo\n",
    "        return Duplas(pri, seg)\n",
    "\n",
    "x, y = Duplas(3,4), Duplas(2,0)\n",
    "z = x+y\n",
    "print(z)"
   ]
  },
  {
   "cell_type": "code",
   "execution_count": 6,
   "metadata": {},
   "outputs": [
    {
     "data": {
      "text/plain": [
       "3.8159581777535068"
      ]
     },
     "execution_count": 6,
     "metadata": {},
     "output_type": "execute_result"
    }
   ],
   "source": [
    "#Fatorial\n",
    "def fatorial(n):\n",
    "    if n <= 0:\n",
    "        return 1\n",
    "    else:\n",
    "        return n*fatorial(n-1)\n",
    "#fatorial(100)\n",
    "\n",
    "#Número Harmônico\n",
    "def H(n):\n",
    "    if n <= 1: return 1\n",
    "    return 1 / n + H(n - 1)\n",
    "H(25)"
   ]
  },
  {
   "cell_type": "code",
   "execution_count": 7,
   "metadata": {},
   "outputs": [
    {
     "data": {
      "text/plain": [
       "6"
      ]
     },
     "execution_count": 7,
     "metadata": {},
     "output_type": "execute_result"
    }
   ],
   "source": [
    "def soma_da_lista(lista):\n",
    "    if lista == []: return 0\n",
    "    return lista[0] + soma_da_lista(lista[1:])\n",
    "soma_da_lista([1,2,3])"
   ]
  },
  {
   "cell_type": "code",
   "execution_count": 3,
   "metadata": {},
   "outputs": [
    {
     "data": {
      "text/plain": [
       "False"
      ]
     },
     "execution_count": 3,
     "metadata": {},
     "output_type": "execute_result"
    }
   ],
   "source": [
    "x = 'abc'\n",
    "x[2] < x[1]"
   ]
  }
 ],
 "metadata": {
  "kernelspec": {
   "display_name": "Python 3",
   "language": "python",
   "name": "python3"
  },
  "language_info": {
   "codemirror_mode": {
    "name": "ipython",
    "version": 3
   },
   "file_extension": ".py",
   "mimetype": "text/x-python",
   "name": "python",
   "nbconvert_exporter": "python",
   "pygments_lexer": "ipython3",
   "version": "3.7.3"
  },
  "toc": {
   "base_numbering": 1,
   "nav_menu": {},
   "number_sections": true,
   "sideBar": true,
   "skip_h1_title": false,
   "title_cell": "Table of Contents",
   "title_sidebar": "Contents",
   "toc_cell": false,
   "toc_position": {},
   "toc_section_display": true,
   "toc_window_display": false
  }
 },
 "nbformat": 4,
 "nbformat_minor": 4
}
